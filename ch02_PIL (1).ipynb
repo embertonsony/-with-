{
  "nbformat": 4,
  "nbformat_minor": 0,
  "metadata": {
    "colab": {
      "provenance": []
    },
    "kernelspec": {
      "name": "python3",
      "display_name": "Python 3"
    },
    "language_info": {
      "name": "python"
    }
  },
  "cells": [
    {
      "cell_type": "markdown",
      "source": [
        "# 2장 - 간단한 분류 알고리즘 훈련"
      ],
      "metadata": {
        "id": "JsR0swcm_KrW"
      }
    },
    {
      "cell_type": "markdown",
      "source": [
        "### 목차\n",
        "\n",
        "- 인공 뉴런: 초기 머신 러닝의 간단한 역사\n",
        "    - 인공 뉴런의 수학적 정의\n",
        "    - 퍼셉트론 학습 규칙\n",
        "- 파이썬으로 퍼셉트론 학습 알고리즘 구현\n",
        "    - 객체 지향 퍼셉트론 API\n",
        "    - 붓꽃 데이터셋에서 퍼셉트론 훈련\n",
        "- 적응형 선형 뉴런과 학습의 수렴\n",
        "    - 경사 하강법으로 비용 함수 최소화\n",
        "    - 파이썬으로 아달린 구현\n",
        "    - 특성 스케일을 조정하여 경사 하강법 결과 향상\n",
        "    - 대규모 머신 러닝과 확률적 경사 하강법"
      ],
      "metadata": {
        "id": "6_RvZORdABfN"
      }
    },
    {
      "cell_type": "code",
      "source": [
        "from IPython.display import Image"
      ],
      "metadata": {
        "id": "-z26UKpZABc9"
      },
      "execution_count": null,
      "outputs": []
    },
    {
      "cell_type": "markdown",
      "source": [
        "# 2.1 인공 뉴런: 초기 머신 러닝의 간단한 역사"
      ],
      "metadata": {
        "id": "LB22xTmKABaV"
      }
    },
    {
      "cell_type": "code",
      "source": [
        "Image(url='https://git.io/JtIbf', width=500)"
      ],
      "metadata": {
        "colab": {
          "base_uri": "https://localhost:8080/",
          "height": 234
        },
        "id": "mAloLDTUABX2",
        "outputId": "1e7aab7c-67e8-4a15-ce9e-c70d908f7766"
      },
      "execution_count": null,
      "outputs": [
        {
          "output_type": "execute_result",
          "data": {
            "text/html": [
              "<img src=\"https://git.io/JtIbf\" width=\"500\"/>"
            ],
            "text/plain": [
              "<IPython.core.display.Image object>"
            ]
          },
          "metadata": {},
          "execution_count": 30
        }
      ]
    },
    {
      "cell_type": "markdown",
      "source": [
        "- 1943년 워렌 맥컬록(Warren McCulloch)과 월터 피츠(Walter Pitts)가 맥컬록-피츠(MCP) 뉴런 발표\n",
        "- 프랑크 로젠블라트(Frank Rosenblatt)는 MCP 뉴런 모델을 기반으로 퍼셉트론 학습 개념을 발표"
      ],
      "metadata": {
        "id": "A7N2ZZAvABVe"
      }
    },
    {
      "cell_type": "markdown",
      "source": [
        "## 2.1.1 인공 뉴런의 수학적 정의"
      ],
      "metadata": {
        "id": "0MqmyxsjAcZ1"
      }
    },
    {
      "cell_type": "markdown",
      "source": [
        "$\\boldsymbol{w}=\\begin{bmatrix} w_1 \\\\ \\vdots \\\\ w_m\\end{bmatrix}$ ,\n",
        "$\\boldsymbol{x}=\\begin{bmatrix} x_1 \\\\ \\vdots \\\\ x_m\\end{bmatrix}$\n",
        "\n",
        "최종 입력(net input) : $z = w_1x_1+w_2x_2+\\cdots+w_mx_m$\n",
        "\n",
        "\n",
        "벡터 점곱(dot product), 행렬 곱셈(matrix multiplication) :\n",
        "$\\begin{bmatrix}1&2&3\\end{bmatrix}\\times\\begin{bmatrix}4\\\\5\\\\6\\end{bmatrix}=1\\times4+2\\times5+3\\times6=32$\n",
        "\n",
        "점곱을 사용한 표현 : $z = w_1x_1+\\cdots+w_mx_m=\\sum_{j=1}^mx_jw_j=\\boldsymbol{w}^T\\boldsymbol{x}$\n",
        "\n",
        "퍼셉트론의 결정 함수 : $\\phi(z)=\\begin{cases}1&z\\ge\\theta\\mbox{ 일 때} \\\\ -1&\\mbox{그 외}\\end{cases}$\n",
        "$\\;\\;\\;\\;\\;$\n",
        "$\\phi(z)=\\begin{cases}1&z-\\theta\\ge0\\mbox{ 일 때} \\\\ -1&\\mbox{그 외}\\end{cases}$\n",
        "\n",
        "$w_0=-\\theta , x_0=1$ 일 때 : $z_{new} = w_0x_0+w_1x_1+\\cdots+w_mx_m=\\sum_{j=0}^mx_jw_j=\\boldsymbol{w}^T\\boldsymbol{x}$"
      ],
      "metadata": {
        "id": "ZAF4c_S_AdCl"
      }
    },
    {
      "cell_type": "code",
      "source": [
        "# 퍼셉트론 결정 함수(단위 계단 함수)와 결정 경계\n",
        "Image(url='https://git.io/JtIbL', width=500)"
      ],
      "metadata": {
        "colab": {
          "base_uri": "https://localhost:8080/",
          "height": 300
        },
        "id": "meGsYLocAdUm",
        "outputId": "9d6cda3e-e4dd-4883-c967-ccaa5ee7169f"
      },
      "execution_count": null,
      "outputs": [
        {
          "output_type": "execute_result",
          "data": {
            "text/html": [
              "<img src=\"https://git.io/JtIbL\" width=\"500\"/>"
            ],
            "text/plain": [
              "<IPython.core.display.Image object>"
            ]
          },
          "metadata": {},
          "execution_count": 31
        }
      ]
    },
    {
      "cell_type": "markdown",
      "source": [
        "## 2.1.2 퍼셉트론 학습 규칙"
      ],
      "metadata": {
        "id": "E8ySUFn1Ad6F"
      }
    },
    {
      "cell_type": "markdown",
      "source": [],
      "metadata": {
        "id": "Dn-spnUcAeSt"
      }
    },
    {
      "cell_type": "markdown",
      "source": [
        "$\\Delta w_j = \\eta(y^{(i)}-\\hat{y}^{(i)})x_j^{(i)}$\n",
        "\n",
        "$w_j := w_j + \\Delta w_j$"
      ],
      "metadata": {
        "id": "KQinN1UEAaGm"
      }
    },
    {
      "cell_type": "markdown",
      "source": [
        "클래스 레이블을 정확히 예측한 경우 :\n",
        "\n",
        "$y^{(i)}=-1,\\; \\hat{y}^{(i)}=-1, \\qquad \\Delta w_j=\\eta(-1-(-1))x_j^{(i)}=0$\n",
        "\n",
        "$y^{(i)}=1,\\; \\hat{y}^{(i)}=1, \\qquad \\Delta w_j=\\eta(1-1)x_j^{(i)}=0$"
      ],
      "metadata": {
        "id": "9NPAtwZOAaa9"
      }
    },
    {
      "cell_type": "markdown",
      "source": [
        "클래스 레이블을 잘못 예측한 경우 :\n",
        "\n",
        "$y^{(i)}=1,\\;\\hat{y}^{(i)}=-1, \\qquad \\Delta w_j=\\eta(1-(-1))x_j^{(i)}=\\eta(2)x_j^{(i)}$\n",
        "\n",
        "$y^{(i)}=-1,\\;\\hat{y}^{(i)}=1, \\qquad \\Delta w_j=\\eta(-1-1)x_j^{(i)}=\\eta(-2)x_j^{(i)}$"
      ],
      "metadata": {
        "id": "EBEgYRAyA1Sk"
      }
    },
    {
      "cell_type": "markdown",
      "source": [
        "예를 들어 $\\hat{y}^{(i)}=-1,\\;y^{(i)}=+1,\\;\\eta=1$ 이고, $x_j^{(i)}=0.5$ 일 때 :\n",
        "\n",
        "$\\Delta w_j=(1-(-1))0.5=(2)0.5=1$\n",
        "\n",
        "$x_j^{(i)}=2$ 일 때 :\n",
        "\n",
        "$\\Delta w_j=(1-(-1))2=(2)2=4$"
      ],
      "metadata": {
        "id": "BBIYSApaA1pd"
      }
    },
    {
      "cell_type": "code",
      "source": [
        "Image(url='https://git.io/JtIbq', width=600)"
      ],
      "metadata": {
        "colab": {
          "base_uri": "https://localhost:8080/",
          "height": 190
        },
        "id": "MVjBdDeqA18N",
        "outputId": "b947c261-d1d7-4a11-daa4-b4df4a6c84cb"
      },
      "execution_count": null,
      "outputs": [
        {
          "output_type": "execute_result",
          "data": {
            "text/html": [
              "<img src=\"https://git.io/JtIbq\" width=\"600\"/>"
            ],
            "text/plain": [
              "<IPython.core.display.Image object>"
            ]
          },
          "metadata": {},
          "execution_count": 32
        }
      ]
    },
    {
      "cell_type": "code",
      "source": [
        "# 퍼셉트론 알고리즘\n",
        "Image(url='https://git.io/JtIbO', width=600)"
      ],
      "metadata": {
        "colab": {
          "base_uri": "https://localhost:8080/",
          "height": 258
        },
        "id": "enlIIUFtBClt",
        "outputId": "741ed7a8-3372-443e-8844-8512f259100a"
      },
      "execution_count": null,
      "outputs": [
        {
          "output_type": "execute_result",
          "data": {
            "text/html": [
              "<img src=\"https://git.io/JtIbO\" width=\"600\"/>"
            ],
            "text/plain": [
              "<IPython.core.display.Image object>"
            ]
          },
          "metadata": {},
          "execution_count": 33
        }
      ]
    },
    {
      "cell_type": "markdown",
      "source": [
        "# 2.2 파이썬으로 퍼셉트론 학습 알고리즘 구현"
      ],
      "metadata": {
        "id": "rYHqt4CXBHvt"
      }
    },
    {
      "cell_type": "markdown",
      "source": [
        "## 2.2.1 객체 지향 퍼셉트론 API"
      ],
      "metadata": {
        "id": "NrOKZudmBIBd"
      }
    },
    {
      "cell_type": "code",
      "source": [
        "import numpy as np\n",
        "\n",
        "\n",
        "class Perceptron(object):\n",
        "    \"\"\"퍼셉트론 분류기\n",
        "\n",
        "    매개변수\n",
        "    ------------\n",
        "    eta : float\n",
        "      학습률 (0.0과 1.0 사이)\n",
        "    n_iter : int\n",
        "      훈련 데이터셋 반복 횟수\n",
        "    random_state : int\n",
        "      가중치 무작위 초기화를 위한 난수 생성기 시드\n",
        "\n",
        "    속성\n",
        "    -----------\n",
        "    w_ : 1d-array\n",
        "      학습된 가중치\n",
        "    errors_ : list\n",
        "      에포크마다 누적된 분류 오류\n",
        "\n",
        "    \"\"\"\n",
        "    def __init__(self, eta=0.01, n_iter=50, random_state=1):\n",
        "        self.eta = eta\n",
        "        self.n_iter = n_iter\n",
        "        self.random_state = random_state\n",
        "\n",
        "    def fit(self, X, y):\n",
        "        \"\"\"훈련 데이터 학습\n",
        "\n",
        "        매개변수\n",
        "        ----------\n",
        "        X : array-like, shape = [n_samples, n_features]\n",
        "          n_samples개의 샘플과 n_features개의 특성으로 이루어진 훈련 데이터\n",
        "        y : array-like, shape = [n_samples]\n",
        "          타깃값\n",
        "\n",
        "        반환값\n",
        "        -------\n",
        "        self : object\n",
        "\n",
        "        \"\"\"\n",
        "        rgen = np.random.RandomState(self.random_state)\n",
        "        self.w_ = rgen.normal(loc=0.0, scale=0.01, size=1 + X.shape[1])\n",
        "        self.errors_ = []\n",
        "\n",
        "        for _ in range(self.n_iter):\n",
        "            errors = 0\n",
        "            for xi, target in zip(X, y):\n",
        "                update = self.eta * (target - self.predict(xi))\n",
        "                self.w_[1:] += update * xi\n",
        "                self.w_[0] += update\n",
        "                errors += int(update != 0.0)\n",
        "            self.errors_.append(errors)\n",
        "        return self\n",
        "\n",
        "    def net_input(self, X):\n",
        "        \"\"\"입력 계산\"\"\"\n",
        "        return np.dot(X, self.w_[1:]) + self.w_[0]\n",
        "\n",
        "    def predict(self, X):\n",
        "        \"\"\"단위 계단 함수를 사용하여 클래스 레이블을 반환합니다\"\"\"\n",
        "        return np.where(self.net_input(X) >= 0.0, 1, -1)"
      ],
      "metadata": {
        "id": "BVLNgZloBfya"
      },
      "execution_count": null,
      "outputs": []
    },
    {
      "cell_type": "markdown",
      "source": [
        "$\\boldsymbol{w}^{(1)} = \\boldsymbol{w}^{(0)}+\\mathit\\Delta\\boldsymbol{w}=\\boldsymbol{w}^{(0)}+\\eta(\\boldsymbol{y}-\\boldsymbol{\\hat{y}})\\boldsymbol{x}=\\eta(\\boldsymbol{y}-\\phi(\\boldsymbol{w}^{(0)}\\boldsymbol{x}))\\boldsymbol{x}=\\eta(\\boldsymbol{y}+1)\\boldsymbol{x}$\n",
        "\n",
        "$a\\cdot b =\\vert a\\vert\\vert b\\vert\\text{cos}\\theta$\n",
        "\n",
        "$\\theta=\\text{cos}^{-1}\\dfrac{a\\cdot b}{\\vert a\\vert\\vert b\\vert}$"
      ],
      "metadata": {
        "id": "IXWARmV2Bfvl"
      }
    },
    {
      "cell_type": "code",
      "source": [
        "v1 = np.array([1, 2, 3])\n",
        "v2 = 0.5 * v1\n",
        "np.arccos(v1.dot(v2) / (np.linalg.norm(v1) * np.linalg.norm(v2)))"
      ],
      "metadata": {
        "colab": {
          "base_uri": "https://localhost:8080/"
        },
        "id": "uU9Il6Q3Bfs2",
        "outputId": "d8610ebe-e351-4c1d-a75d-f95f81b34448"
      },
      "execution_count": null,
      "outputs": [
        {
          "output_type": "execute_result",
          "data": {
            "text/plain": [
              "0.0"
            ]
          },
          "metadata": {},
          "execution_count": 35
        }
      ]
    },
    {
      "cell_type": "markdown",
      "source": [
        "## 2.2.2 붓꽃 데이터셋에서 퍼셉트론 훈련"
      ],
      "metadata": {
        "id": "ZwIaAZp-Bfqd"
      }
    },
    {
      "cell_type": "markdown",
      "source": [
        "### 붓꽃 데이터셋 읽기"
      ],
      "metadata": {
        "id": "R08c9eQjBfoF"
      }
    },
    {
      "cell_type": "code",
      "source": [
        "import os\n",
        "import pandas as pd"
      ],
      "metadata": {
        "id": "_rggplxN6WSp"
      },
      "execution_count": null,
      "outputs": []
    },
    {
      "cell_type": "code",
      "source": [
        "from google.colab import drive\n",
        "drive.mount('/content/drive')"
      ],
      "metadata": {
        "colab": {
          "base_uri": "https://localhost:8080/"
        },
        "id": "QSOGe-7k62Rg",
        "outputId": "20b5e01f-c01d-4655-f3b7-266d095a9919"
      },
      "execution_count": null,
      "outputs": [
        {
          "output_type": "stream",
          "name": "stdout",
          "text": [
            "Mounted at /content/drive\n"
          ]
        }
      ]
    },
    {
      "cell_type": "code",
      "source": [
        "file_path =  '/content/drive/MyDrive/머신러닝 교과서 with 파이썬/iris.csv'\n",
        "df = pd.read_csv(file_path)"
      ],
      "metadata": {
        "id": "wTZuErim7OUt"
      },
      "execution_count": null,
      "outputs": []
    },
    {
      "cell_type": "code",
      "source": [
        "df.tail()"
      ],
      "metadata": {
        "colab": {
          "base_uri": "https://localhost:8080/",
          "height": 206
        },
        "id": "TULbmkA86WNu",
        "outputId": "265b3515-2eee-4608-ae52-53c379f5be22"
      },
      "execution_count": null,
      "outputs": [
        {
          "output_type": "execute_result",
          "data": {
            "text/plain": [
              "     caseno  SepalLength  SepalWidth  PetalLength  PetalWidth    Species\n",
              "145     146          6.7         3.0          5.2         2.3  virginica\n",
              "146     147          6.3         2.5          5.0         1.9  virginica\n",
              "147     148          6.5         3.0          5.2         2.0  virginica\n",
              "148     149          6.2         3.4          5.4         2.3  virginica\n",
              "149     150          5.9         3.0          5.1         1.8  virginica"
            ],
            "text/html": [
              "\n",
              "  <div id=\"df-01787d4a-41ac-4af9-a4ae-a292db36ab85\" class=\"colab-df-container\">\n",
              "    <div>\n",
              "<style scoped>\n",
              "    .dataframe tbody tr th:only-of-type {\n",
              "        vertical-align: middle;\n",
              "    }\n",
              "\n",
              "    .dataframe tbody tr th {\n",
              "        vertical-align: top;\n",
              "    }\n",
              "\n",
              "    .dataframe thead th {\n",
              "        text-align: right;\n",
              "    }\n",
              "</style>\n",
              "<table border=\"1\" class=\"dataframe\">\n",
              "  <thead>\n",
              "    <tr style=\"text-align: right;\">\n",
              "      <th></th>\n",
              "      <th>caseno</th>\n",
              "      <th>SepalLength</th>\n",
              "      <th>SepalWidth</th>\n",
              "      <th>PetalLength</th>\n",
              "      <th>PetalWidth</th>\n",
              "      <th>Species</th>\n",
              "    </tr>\n",
              "  </thead>\n",
              "  <tbody>\n",
              "    <tr>\n",
              "      <th>145</th>\n",
              "      <td>146</td>\n",
              "      <td>6.7</td>\n",
              "      <td>3.0</td>\n",
              "      <td>5.2</td>\n",
              "      <td>2.3</td>\n",
              "      <td>virginica</td>\n",
              "    </tr>\n",
              "    <tr>\n",
              "      <th>146</th>\n",
              "      <td>147</td>\n",
              "      <td>6.3</td>\n",
              "      <td>2.5</td>\n",
              "      <td>5.0</td>\n",
              "      <td>1.9</td>\n",
              "      <td>virginica</td>\n",
              "    </tr>\n",
              "    <tr>\n",
              "      <th>147</th>\n",
              "      <td>148</td>\n",
              "      <td>6.5</td>\n",
              "      <td>3.0</td>\n",
              "      <td>5.2</td>\n",
              "      <td>2.0</td>\n",
              "      <td>virginica</td>\n",
              "    </tr>\n",
              "    <tr>\n",
              "      <th>148</th>\n",
              "      <td>149</td>\n",
              "      <td>6.2</td>\n",
              "      <td>3.4</td>\n",
              "      <td>5.4</td>\n",
              "      <td>2.3</td>\n",
              "      <td>virginica</td>\n",
              "    </tr>\n",
              "    <tr>\n",
              "      <th>149</th>\n",
              "      <td>150</td>\n",
              "      <td>5.9</td>\n",
              "      <td>3.0</td>\n",
              "      <td>5.1</td>\n",
              "      <td>1.8</td>\n",
              "      <td>virginica</td>\n",
              "    </tr>\n",
              "  </tbody>\n",
              "</table>\n",
              "</div>\n",
              "    <div class=\"colab-df-buttons\">\n",
              "\n",
              "  <div class=\"colab-df-container\">\n",
              "    <button class=\"colab-df-convert\" onclick=\"convertToInteractive('df-01787d4a-41ac-4af9-a4ae-a292db36ab85')\"\n",
              "            title=\"Convert this dataframe to an interactive table.\"\n",
              "            style=\"display:none;\">\n",
              "\n",
              "  <svg xmlns=\"http://www.w3.org/2000/svg\" height=\"24px\" viewBox=\"0 -960 960 960\">\n",
              "    <path d=\"M120-120v-720h720v720H120Zm60-500h600v-160H180v160Zm220 220h160v-160H400v160Zm0 220h160v-160H400v160ZM180-400h160v-160H180v160Zm440 0h160v-160H620v160ZM180-180h160v-160H180v160Zm440 0h160v-160H620v160Z\"/>\n",
              "  </svg>\n",
              "    </button>\n",
              "\n",
              "  <style>\n",
              "    .colab-df-container {\n",
              "      display:flex;\n",
              "      gap: 12px;\n",
              "    }\n",
              "\n",
              "    .colab-df-convert {\n",
              "      background-color: #E8F0FE;\n",
              "      border: none;\n",
              "      border-radius: 50%;\n",
              "      cursor: pointer;\n",
              "      display: none;\n",
              "      fill: #1967D2;\n",
              "      height: 32px;\n",
              "      padding: 0 0 0 0;\n",
              "      width: 32px;\n",
              "    }\n",
              "\n",
              "    .colab-df-convert:hover {\n",
              "      background-color: #E2EBFA;\n",
              "      box-shadow: 0px 1px 2px rgba(60, 64, 67, 0.3), 0px 1px 3px 1px rgba(60, 64, 67, 0.15);\n",
              "      fill: #174EA6;\n",
              "    }\n",
              "\n",
              "    .colab-df-buttons div {\n",
              "      margin-bottom: 4px;\n",
              "    }\n",
              "\n",
              "    [theme=dark] .colab-df-convert {\n",
              "      background-color: #3B4455;\n",
              "      fill: #D2E3FC;\n",
              "    }\n",
              "\n",
              "    [theme=dark] .colab-df-convert:hover {\n",
              "      background-color: #434B5C;\n",
              "      box-shadow: 0px 1px 3px 1px rgba(0, 0, 0, 0.15);\n",
              "      filter: drop-shadow(0px 1px 2px rgba(0, 0, 0, 0.3));\n",
              "      fill: #FFFFFF;\n",
              "    }\n",
              "  </style>\n",
              "\n",
              "    <script>\n",
              "      const buttonEl =\n",
              "        document.querySelector('#df-01787d4a-41ac-4af9-a4ae-a292db36ab85 button.colab-df-convert');\n",
              "      buttonEl.style.display =\n",
              "        google.colab.kernel.accessAllowed ? 'block' : 'none';\n",
              "\n",
              "      async function convertToInteractive(key) {\n",
              "        const element = document.querySelector('#df-01787d4a-41ac-4af9-a4ae-a292db36ab85');\n",
              "        const dataTable =\n",
              "          await google.colab.kernel.invokeFunction('convertToInteractive',\n",
              "                                                    [key], {});\n",
              "        if (!dataTable) return;\n",
              "\n",
              "        const docLinkHtml = 'Like what you see? Visit the ' +\n",
              "          '<a target=\"_blank\" href=https://colab.research.google.com/notebooks/data_table.ipynb>data table notebook</a>'\n",
              "          + ' to learn more about interactive tables.';\n",
              "        element.innerHTML = '';\n",
              "        dataTable['output_type'] = 'display_data';\n",
              "        await google.colab.output.renderOutput(dataTable, element);\n",
              "        const docLink = document.createElement('div');\n",
              "        docLink.innerHTML = docLinkHtml;\n",
              "        element.appendChild(docLink);\n",
              "      }\n",
              "    </script>\n",
              "  </div>\n",
              "\n",
              "\n",
              "<div id=\"df-d4faaa29-8a63-4feb-b323-5854bad997fa\">\n",
              "  <button class=\"colab-df-quickchart\" onclick=\"quickchart('df-d4faaa29-8a63-4feb-b323-5854bad997fa')\"\n",
              "            title=\"Suggest charts\"\n",
              "            style=\"display:none;\">\n",
              "\n",
              "<svg xmlns=\"http://www.w3.org/2000/svg\" height=\"24px\"viewBox=\"0 0 24 24\"\n",
              "     width=\"24px\">\n",
              "    <g>\n",
              "        <path d=\"M19 3H5c-1.1 0-2 .9-2 2v14c0 1.1.9 2 2 2h14c1.1 0 2-.9 2-2V5c0-1.1-.9-2-2-2zM9 17H7v-7h2v7zm4 0h-2V7h2v10zm4 0h-2v-4h2v4z\"/>\n",
              "    </g>\n",
              "</svg>\n",
              "  </button>\n",
              "\n",
              "<style>\n",
              "  .colab-df-quickchart {\n",
              "      --bg-color: #E8F0FE;\n",
              "      --fill-color: #1967D2;\n",
              "      --hover-bg-color: #E2EBFA;\n",
              "      --hover-fill-color: #174EA6;\n",
              "      --disabled-fill-color: #AAA;\n",
              "      --disabled-bg-color: #DDD;\n",
              "  }\n",
              "\n",
              "  [theme=dark] .colab-df-quickchart {\n",
              "      --bg-color: #3B4455;\n",
              "      --fill-color: #D2E3FC;\n",
              "      --hover-bg-color: #434B5C;\n",
              "      --hover-fill-color: #FFFFFF;\n",
              "      --disabled-bg-color: #3B4455;\n",
              "      --disabled-fill-color: #666;\n",
              "  }\n",
              "\n",
              "  .colab-df-quickchart {\n",
              "    background-color: var(--bg-color);\n",
              "    border: none;\n",
              "    border-radius: 50%;\n",
              "    cursor: pointer;\n",
              "    display: none;\n",
              "    fill: var(--fill-color);\n",
              "    height: 32px;\n",
              "    padding: 0;\n",
              "    width: 32px;\n",
              "  }\n",
              "\n",
              "  .colab-df-quickchart:hover {\n",
              "    background-color: var(--hover-bg-color);\n",
              "    box-shadow: 0 1px 2px rgba(60, 64, 67, 0.3), 0 1px 3px 1px rgba(60, 64, 67, 0.15);\n",
              "    fill: var(--button-hover-fill-color);\n",
              "  }\n",
              "\n",
              "  .colab-df-quickchart-complete:disabled,\n",
              "  .colab-df-quickchart-complete:disabled:hover {\n",
              "    background-color: var(--disabled-bg-color);\n",
              "    fill: var(--disabled-fill-color);\n",
              "    box-shadow: none;\n",
              "  }\n",
              "\n",
              "  .colab-df-spinner {\n",
              "    border: 2px solid var(--fill-color);\n",
              "    border-color: transparent;\n",
              "    border-bottom-color: var(--fill-color);\n",
              "    animation:\n",
              "      spin 1s steps(1) infinite;\n",
              "  }\n",
              "\n",
              "  @keyframes spin {\n",
              "    0% {\n",
              "      border-color: transparent;\n",
              "      border-bottom-color: var(--fill-color);\n",
              "      border-left-color: var(--fill-color);\n",
              "    }\n",
              "    20% {\n",
              "      border-color: transparent;\n",
              "      border-left-color: var(--fill-color);\n",
              "      border-top-color: var(--fill-color);\n",
              "    }\n",
              "    30% {\n",
              "      border-color: transparent;\n",
              "      border-left-color: var(--fill-color);\n",
              "      border-top-color: var(--fill-color);\n",
              "      border-right-color: var(--fill-color);\n",
              "    }\n",
              "    40% {\n",
              "      border-color: transparent;\n",
              "      border-right-color: var(--fill-color);\n",
              "      border-top-color: var(--fill-color);\n",
              "    }\n",
              "    60% {\n",
              "      border-color: transparent;\n",
              "      border-right-color: var(--fill-color);\n",
              "    }\n",
              "    80% {\n",
              "      border-color: transparent;\n",
              "      border-right-color: var(--fill-color);\n",
              "      border-bottom-color: var(--fill-color);\n",
              "    }\n",
              "    90% {\n",
              "      border-color: transparent;\n",
              "      border-bottom-color: var(--fill-color);\n",
              "    }\n",
              "  }\n",
              "</style>\n",
              "\n",
              "  <script>\n",
              "    async function quickchart(key) {\n",
              "      const quickchartButtonEl =\n",
              "        document.querySelector('#' + key + ' button');\n",
              "      quickchartButtonEl.disabled = true;  // To prevent multiple clicks.\n",
              "      quickchartButtonEl.classList.add('colab-df-spinner');\n",
              "      try {\n",
              "        const charts = await google.colab.kernel.invokeFunction(\n",
              "            'suggestCharts', [key], {});\n",
              "      } catch (error) {\n",
              "        console.error('Error during call to suggestCharts:', error);\n",
              "      }\n",
              "      quickchartButtonEl.classList.remove('colab-df-spinner');\n",
              "      quickchartButtonEl.classList.add('colab-df-quickchart-complete');\n",
              "    }\n",
              "    (() => {\n",
              "      let quickchartButtonEl =\n",
              "        document.querySelector('#df-d4faaa29-8a63-4feb-b323-5854bad997fa button');\n",
              "      quickchartButtonEl.style.display =\n",
              "        google.colab.kernel.accessAllowed ? 'block' : 'none';\n",
              "    })();\n",
              "  </script>\n",
              "</div>\n",
              "\n",
              "    </div>\n",
              "  </div>\n"
            ]
          },
          "metadata": {},
          "execution_count": 42
        }
      ]
    },
    {
      "cell_type": "code",
      "source": [
        "del df['caseno']"
      ],
      "metadata": {
        "id": "GcHeq9EE6WLN"
      },
      "execution_count": null,
      "outputs": []
    },
    {
      "cell_type": "code",
      "source": [
        "df.tail()"
      ],
      "metadata": {
        "colab": {
          "base_uri": "https://localhost:8080/",
          "height": 206
        },
        "id": "WoUCydml6WFW",
        "outputId": "3eb74f3d-7d4d-477f-9bb1-c77b6211c799"
      },
      "execution_count": null,
      "outputs": [
        {
          "output_type": "execute_result",
          "data": {
            "text/plain": [
              "     SepalLength  SepalWidth  PetalLength  PetalWidth    Species\n",
              "145          6.7         3.0          5.2         2.3  virginica\n",
              "146          6.3         2.5          5.0         1.9  virginica\n",
              "147          6.5         3.0          5.2         2.0  virginica\n",
              "148          6.2         3.4          5.4         2.3  virginica\n",
              "149          5.9         3.0          5.1         1.8  virginica"
            ],
            "text/html": [
              "\n",
              "  <div id=\"df-06b31477-2f5e-4950-a2d1-1b614f817cfb\" class=\"colab-df-container\">\n",
              "    <div>\n",
              "<style scoped>\n",
              "    .dataframe tbody tr th:only-of-type {\n",
              "        vertical-align: middle;\n",
              "    }\n",
              "\n",
              "    .dataframe tbody tr th {\n",
              "        vertical-align: top;\n",
              "    }\n",
              "\n",
              "    .dataframe thead th {\n",
              "        text-align: right;\n",
              "    }\n",
              "</style>\n",
              "<table border=\"1\" class=\"dataframe\">\n",
              "  <thead>\n",
              "    <tr style=\"text-align: right;\">\n",
              "      <th></th>\n",
              "      <th>SepalLength</th>\n",
              "      <th>SepalWidth</th>\n",
              "      <th>PetalLength</th>\n",
              "      <th>PetalWidth</th>\n",
              "      <th>Species</th>\n",
              "    </tr>\n",
              "  </thead>\n",
              "  <tbody>\n",
              "    <tr>\n",
              "      <th>145</th>\n",
              "      <td>6.7</td>\n",
              "      <td>3.0</td>\n",
              "      <td>5.2</td>\n",
              "      <td>2.3</td>\n",
              "      <td>virginica</td>\n",
              "    </tr>\n",
              "    <tr>\n",
              "      <th>146</th>\n",
              "      <td>6.3</td>\n",
              "      <td>2.5</td>\n",
              "      <td>5.0</td>\n",
              "      <td>1.9</td>\n",
              "      <td>virginica</td>\n",
              "    </tr>\n",
              "    <tr>\n",
              "      <th>147</th>\n",
              "      <td>6.5</td>\n",
              "      <td>3.0</td>\n",
              "      <td>5.2</td>\n",
              "      <td>2.0</td>\n",
              "      <td>virginica</td>\n",
              "    </tr>\n",
              "    <tr>\n",
              "      <th>148</th>\n",
              "      <td>6.2</td>\n",
              "      <td>3.4</td>\n",
              "      <td>5.4</td>\n",
              "      <td>2.3</td>\n",
              "      <td>virginica</td>\n",
              "    </tr>\n",
              "    <tr>\n",
              "      <th>149</th>\n",
              "      <td>5.9</td>\n",
              "      <td>3.0</td>\n",
              "      <td>5.1</td>\n",
              "      <td>1.8</td>\n",
              "      <td>virginica</td>\n",
              "    </tr>\n",
              "  </tbody>\n",
              "</table>\n",
              "</div>\n",
              "    <div class=\"colab-df-buttons\">\n",
              "\n",
              "  <div class=\"colab-df-container\">\n",
              "    <button class=\"colab-df-convert\" onclick=\"convertToInteractive('df-06b31477-2f5e-4950-a2d1-1b614f817cfb')\"\n",
              "            title=\"Convert this dataframe to an interactive table.\"\n",
              "            style=\"display:none;\">\n",
              "\n",
              "  <svg xmlns=\"http://www.w3.org/2000/svg\" height=\"24px\" viewBox=\"0 -960 960 960\">\n",
              "    <path d=\"M120-120v-720h720v720H120Zm60-500h600v-160H180v160Zm220 220h160v-160H400v160Zm0 220h160v-160H400v160ZM180-400h160v-160H180v160Zm440 0h160v-160H620v160ZM180-180h160v-160H180v160Zm440 0h160v-160H620v160Z\"/>\n",
              "  </svg>\n",
              "    </button>\n",
              "\n",
              "  <style>\n",
              "    .colab-df-container {\n",
              "      display:flex;\n",
              "      gap: 12px;\n",
              "    }\n",
              "\n",
              "    .colab-df-convert {\n",
              "      background-color: #E8F0FE;\n",
              "      border: none;\n",
              "      border-radius: 50%;\n",
              "      cursor: pointer;\n",
              "      display: none;\n",
              "      fill: #1967D2;\n",
              "      height: 32px;\n",
              "      padding: 0 0 0 0;\n",
              "      width: 32px;\n",
              "    }\n",
              "\n",
              "    .colab-df-convert:hover {\n",
              "      background-color: #E2EBFA;\n",
              "      box-shadow: 0px 1px 2px rgba(60, 64, 67, 0.3), 0px 1px 3px 1px rgba(60, 64, 67, 0.15);\n",
              "      fill: #174EA6;\n",
              "    }\n",
              "\n",
              "    .colab-df-buttons div {\n",
              "      margin-bottom: 4px;\n",
              "    }\n",
              "\n",
              "    [theme=dark] .colab-df-convert {\n",
              "      background-color: #3B4455;\n",
              "      fill: #D2E3FC;\n",
              "    }\n",
              "\n",
              "    [theme=dark] .colab-df-convert:hover {\n",
              "      background-color: #434B5C;\n",
              "      box-shadow: 0px 1px 3px 1px rgba(0, 0, 0, 0.15);\n",
              "      filter: drop-shadow(0px 1px 2px rgba(0, 0, 0, 0.3));\n",
              "      fill: #FFFFFF;\n",
              "    }\n",
              "  </style>\n",
              "\n",
              "    <script>\n",
              "      const buttonEl =\n",
              "        document.querySelector('#df-06b31477-2f5e-4950-a2d1-1b614f817cfb button.colab-df-convert');\n",
              "      buttonEl.style.display =\n",
              "        google.colab.kernel.accessAllowed ? 'block' : 'none';\n",
              "\n",
              "      async function convertToInteractive(key) {\n",
              "        const element = document.querySelector('#df-06b31477-2f5e-4950-a2d1-1b614f817cfb');\n",
              "        const dataTable =\n",
              "          await google.colab.kernel.invokeFunction('convertToInteractive',\n",
              "                                                    [key], {});\n",
              "        if (!dataTable) return;\n",
              "\n",
              "        const docLinkHtml = 'Like what you see? Visit the ' +\n",
              "          '<a target=\"_blank\" href=https://colab.research.google.com/notebooks/data_table.ipynb>data table notebook</a>'\n",
              "          + ' to learn more about interactive tables.';\n",
              "        element.innerHTML = '';\n",
              "        dataTable['output_type'] = 'display_data';\n",
              "        await google.colab.output.renderOutput(dataTable, element);\n",
              "        const docLink = document.createElement('div');\n",
              "        docLink.innerHTML = docLinkHtml;\n",
              "        element.appendChild(docLink);\n",
              "      }\n",
              "    </script>\n",
              "  </div>\n",
              "\n",
              "\n",
              "<div id=\"df-917ba911-b13c-42cd-b580-36f43237b4b2\">\n",
              "  <button class=\"colab-df-quickchart\" onclick=\"quickchart('df-917ba911-b13c-42cd-b580-36f43237b4b2')\"\n",
              "            title=\"Suggest charts\"\n",
              "            style=\"display:none;\">\n",
              "\n",
              "<svg xmlns=\"http://www.w3.org/2000/svg\" height=\"24px\"viewBox=\"0 0 24 24\"\n",
              "     width=\"24px\">\n",
              "    <g>\n",
              "        <path d=\"M19 3H5c-1.1 0-2 .9-2 2v14c0 1.1.9 2 2 2h14c1.1 0 2-.9 2-2V5c0-1.1-.9-2-2-2zM9 17H7v-7h2v7zm4 0h-2V7h2v10zm4 0h-2v-4h2v4z\"/>\n",
              "    </g>\n",
              "</svg>\n",
              "  </button>\n",
              "\n",
              "<style>\n",
              "  .colab-df-quickchart {\n",
              "      --bg-color: #E8F0FE;\n",
              "      --fill-color: #1967D2;\n",
              "      --hover-bg-color: #E2EBFA;\n",
              "      --hover-fill-color: #174EA6;\n",
              "      --disabled-fill-color: #AAA;\n",
              "      --disabled-bg-color: #DDD;\n",
              "  }\n",
              "\n",
              "  [theme=dark] .colab-df-quickchart {\n",
              "      --bg-color: #3B4455;\n",
              "      --fill-color: #D2E3FC;\n",
              "      --hover-bg-color: #434B5C;\n",
              "      --hover-fill-color: #FFFFFF;\n",
              "      --disabled-bg-color: #3B4455;\n",
              "      --disabled-fill-color: #666;\n",
              "  }\n",
              "\n",
              "  .colab-df-quickchart {\n",
              "    background-color: var(--bg-color);\n",
              "    border: none;\n",
              "    border-radius: 50%;\n",
              "    cursor: pointer;\n",
              "    display: none;\n",
              "    fill: var(--fill-color);\n",
              "    height: 32px;\n",
              "    padding: 0;\n",
              "    width: 32px;\n",
              "  }\n",
              "\n",
              "  .colab-df-quickchart:hover {\n",
              "    background-color: var(--hover-bg-color);\n",
              "    box-shadow: 0 1px 2px rgba(60, 64, 67, 0.3), 0 1px 3px 1px rgba(60, 64, 67, 0.15);\n",
              "    fill: var(--button-hover-fill-color);\n",
              "  }\n",
              "\n",
              "  .colab-df-quickchart-complete:disabled,\n",
              "  .colab-df-quickchart-complete:disabled:hover {\n",
              "    background-color: var(--disabled-bg-color);\n",
              "    fill: var(--disabled-fill-color);\n",
              "    box-shadow: none;\n",
              "  }\n",
              "\n",
              "  .colab-df-spinner {\n",
              "    border: 2px solid var(--fill-color);\n",
              "    border-color: transparent;\n",
              "    border-bottom-color: var(--fill-color);\n",
              "    animation:\n",
              "      spin 1s steps(1) infinite;\n",
              "  }\n",
              "\n",
              "  @keyframes spin {\n",
              "    0% {\n",
              "      border-color: transparent;\n",
              "      border-bottom-color: var(--fill-color);\n",
              "      border-left-color: var(--fill-color);\n",
              "    }\n",
              "    20% {\n",
              "      border-color: transparent;\n",
              "      border-left-color: var(--fill-color);\n",
              "      border-top-color: var(--fill-color);\n",
              "    }\n",
              "    30% {\n",
              "      border-color: transparent;\n",
              "      border-left-color: var(--fill-color);\n",
              "      border-top-color: var(--fill-color);\n",
              "      border-right-color: var(--fill-color);\n",
              "    }\n",
              "    40% {\n",
              "      border-color: transparent;\n",
              "      border-right-color: var(--fill-color);\n",
              "      border-top-color: var(--fill-color);\n",
              "    }\n",
              "    60% {\n",
              "      border-color: transparent;\n",
              "      border-right-color: var(--fill-color);\n",
              "    }\n",
              "    80% {\n",
              "      border-color: transparent;\n",
              "      border-right-color: var(--fill-color);\n",
              "      border-bottom-color: var(--fill-color);\n",
              "    }\n",
              "    90% {\n",
              "      border-color: transparent;\n",
              "      border-bottom-color: var(--fill-color);\n",
              "    }\n",
              "  }\n",
              "</style>\n",
              "\n",
              "  <script>\n",
              "    async function quickchart(key) {\n",
              "      const quickchartButtonEl =\n",
              "        document.querySelector('#' + key + ' button');\n",
              "      quickchartButtonEl.disabled = true;  // To prevent multiple clicks.\n",
              "      quickchartButtonEl.classList.add('colab-df-spinner');\n",
              "      try {\n",
              "        const charts = await google.colab.kernel.invokeFunction(\n",
              "            'suggestCharts', [key], {});\n",
              "      } catch (error) {\n",
              "        console.error('Error during call to suggestCharts:', error);\n",
              "      }\n",
              "      quickchartButtonEl.classList.remove('colab-df-spinner');\n",
              "      quickchartButtonEl.classList.add('colab-df-quickchart-complete');\n",
              "    }\n",
              "    (() => {\n",
              "      let quickchartButtonEl =\n",
              "        document.querySelector('#df-917ba911-b13c-42cd-b580-36f43237b4b2 button');\n",
              "      quickchartButtonEl.style.display =\n",
              "        google.colab.kernel.accessAllowed ? 'block' : 'none';\n",
              "    })();\n",
              "  </script>\n",
              "</div>\n",
              "\n",
              "    </div>\n",
              "  </div>\n"
            ]
          },
          "metadata": {},
          "execution_count": 47
        }
      ]
    },
    {
      "cell_type": "markdown",
      "source": [
        "### 붓꽃 데이터 그래프 그리기"
      ],
      "metadata": {
        "id": "p3TEk6DO8hTl"
      }
    },
    {
      "cell_type": "code",
      "source": [
        "%matplotlib inline\n",
        "import matplotlib.pyplot as plt\n",
        "import numpy as np"
      ],
      "metadata": {
        "id": "PgLTcUAdOOjM"
      },
      "execution_count": null,
      "outputs": []
    },
    {
      "cell_type": "code",
      "source": [
        "# setosa와 versicolor를 선택합니다\n",
        "y = df.iloc[:100, 4].values\n",
        "y = np.where( y == 'setosa', -1, 1)\n",
        "\n",
        "# 꽃받침 길이와 꽃잎 길이를 추출합니다\n",
        "X = df.iloc[0:100, [0,2]].values\n",
        "\n",
        "# 산점도를 그립니다, setosa-음성, versicolor-양성\n",
        "plt.scatter(X[:50, 0], X[:50, 1],\n",
        "            color='red', marker='o', label='setosa')\n",
        "plt.scatter(X[50:100, 0], X[50:100, 1],\n",
        "            color='blue', marker='x', label='versicolor')\n",
        "\n",
        "plt.xlabel('sepal length [cm]')\n",
        "plt.ylabel('patal langth [cm]')\n",
        "plt.legend(loc='upper left')\n",
        "\n",
        "# plt.savefig('images/02_06.png', dpi=300)\n",
        "plt.show()"
      ],
      "metadata": {
        "colab": {
          "base_uri": "https://localhost:8080/",
          "height": 449
        },
        "id": "tL5ZIZreOOg8",
        "outputId": "92b6241e-f776-49eb-f9e8-a4717d4b6689"
      },
      "execution_count": null,
      "outputs": [
        {
          "output_type": "display_data",
          "data": {
            "text/plain": [
              "<Figure size 640x480 with 1 Axes>"
            ],
            "image/png": "[encoded data removed]"
          },
          "metadata": {}
        }
      ]
    },
    {
      "cell_type": "markdown",
      "source": [
        "### 퍼셉트론 모델 훈련하기"
      ],
      "metadata": {
        "id": "gtQGxtclOOVS"
      }
    },
    {
      "cell_type": "code",
      "source": [
        "ppn = Perceptron(eta=0.1, n_iter=10)\n",
        "ppn.fit(X,y)\n",
        "\n",
        "plt.plot(range(1, len(ppn.errors_)+1), ppn.errors_, marker='o')\n",
        "\n",
        "plt.xlabel('Epochs')\n",
        "plt.ylabel('Number of updates')\n",
        "\n",
        "# plt.savefig('images/02_07.png', dpi=300)\n",
        "plt.show()"
      ],
      "metadata": {
        "colab": {
          "base_uri": "https://localhost:8080/",
          "height": 449
        },
        "id": "AGcpupZMR1Jd",
        "outputId": "71d1a732-9782-4f80-e922-08196f6a0c97"
      },
      "execution_count": null,
      "outputs": [
        {
          "output_type": "display_data",
          "data": {
            "text/plain": [
              "<Figure size 640x480 with 1 Axes>"
            ],
            "image/png": "[encoded data removed]"
          },
          "metadata": {}
        }
      ]
    },
    {
      "cell_type": "markdown",
      "source": [
        "### 결정 경계 그래프 함수"
      ],
      "metadata": {
        "id": "HKYi-fgGSWLU"
      }
    },
    {
      "cell_type": "code",
      "source": [
        "from matplotlib.colors import ListedColormap"
      ],
      "metadata": {
        "id": "atCriR8_SWI0"
      },
      "execution_count": null,
      "outputs": []
    },
    {
      "cell_type": "code",
      "source": [
        "def plot_decision_regions(X, y, classifier, resolution=0.02):\n",
        "    markers = ('s', 'x', 'o', '^', 'v')\n",
        "    colors = ('red', 'blue', 'lightgreen', 'gray', 'cyan')\n",
        "    cmap = ListedColormap(colors[:len(np.unique(y))])\n",
        "\n",
        "    # 결정 경계를 그립니다\n",
        "    x1_min, x1_max = X[:, 0].min() - 1, X[:, 0].max() + 1  # 꽃받침 길이 최소/최대\n",
        "    x2_min, x2_max = X[:, 1].min() - 1, X[:, 1].max() + 1  # 꽃잎 길이 최소/최대\n",
        "    xx1, xx2 = np.meshgrid(np.arange(x1_min, x1_max, resolution),\n",
        "                           np.arange(x2_min, x2_max, resolution))\n",
        "    Z = classifier.predict(np.array([xx1.ravel(), xx2.ravel()]).T)\n",
        "    Z = Z.reshape(xx1.shape)\n",
        "    plt.contourf(xx1, xx2, Z, alpha=0.3, cmap=cmap)\n",
        "    plt.xlim(xx1.min(), xx1.max())\n",
        "    plt.ylim(xx2.min(), xx2.max())\n",
        "\n",
        "    # 샘플의 산점도를 그립니다\n",
        "    for idx, cl in enumerate(np.unique(y)):\n",
        "        plt.scatter(x=X[y == cl, 0],\n",
        "                    y=X[y == cl, 1],\n",
        "                    alpha=0.8,\n",
        "                    c=colors[idx],\n",
        "                    marker=markers[idx],\n",
        "                    label=cl,\n",
        "                    edgecolor=None if idx==1 else 'black')"
      ],
      "metadata": {
        "id": "v3L82B4PSV9r"
      },
      "execution_count": null,
      "outputs": []
    },
    {
      "cell_type": "code",
      "source": [
        "plot_decision_regions(X, y, classifier=ppn)\n",
        "plt.xlabel('sepal length [cm]')\n",
        "plt.ylabel('petal length [cm]')\n",
        "plt.legend(loc='upper left')\n",
        "\n",
        "# plt.savefig('images/02_08.png', dpi=300)\n",
        "plt.show()"
      ],
      "metadata": {
        "colab": {
          "base_uri": "https://localhost:8080/",
          "height": 450
        },
        "id": "m_sttFODR1Es",
        "outputId": "f408fa81-3028-4129-8ed2-d5e63da98c5a"
      },
      "execution_count": null,
      "outputs": [
        {
          "output_type": "display_data",
          "data": {
            "text/plain": [
              "<Figure size 640x480 with 1 Axes>"
            ],
            "image/png": "[encoded data removed]"
          },
          "metadata": {}
        }
      ]
    },
    {
      "cell_type": "markdown",
      "source": [
        "# 2.3 적응형 선형 뉴런과 학습의 수렴"
      ],
      "metadata": {
        "id": "0TPeM-FHOOSd"
      }
    },
    {
      "cell_type": "code",
      "source": [
        "Image(url='https://git.io/JtIbn', width=600)"
      ],
      "metadata": {
        "colab": {
          "base_uri": "https://localhost:8080/",
          "height": 450
        },
        "id": "7THp07CSb-pL",
        "outputId": "cd6979d8-8b42-42f8-e50c-b04b80e5bc75"
      },
      "execution_count": null,
      "outputs": [
        {
          "output_type": "execute_result",
          "data": {
            "text/html": [
              "<img src=\"https://git.io/JtIbn\" width=\"600\"/>"
            ],
            "text/plain": [
              "<IPython.core.display.Image object>"
            ]
          },
          "metadata": {},
          "execution_count": 116
        }
      ]
    },
    {
      "cell_type": "markdown",
      "source": [
        "아달린의 활성화 함수 : $\\phi(z) = z$"
      ],
      "metadata": {
        "id": "Hb__Bwrlb-mx"
      }
    },
    {
      "cell_type": "markdown",
      "source": [
        "## 2.3.1 경사 하강법으로 비용 함수 최소화"
      ],
      "metadata": {
        "id": "r37UiH4-b-kV"
      }
    },
    {
      "cell_type": "markdown",
      "source": [
        "목적 함수 == 비용 함수 == 손실 함수\n",
        "\n",
        "$J(\\boldsymbol{w})=\\dfrac{1}{2}\\sum_i\\left(y^{(i)}-\\phi(z^{(i)})\\right)^2$"
      ],
      "metadata": {
        "id": "6__eKowLb-h1"
      }
    },
    {
      "cell_type": "code",
      "source": [
        "Image(url='https://git.io/JtIbc', width=500)"
      ],
      "metadata": {
        "colab": {
          "base_uri": "https://localhost:8080/",
          "height": 274
        },
        "id": "xcHZUjIDb-fc",
        "outputId": "78cb1478-4044-44de-8bfc-eb048134bcad"
      },
      "execution_count": null,
      "outputs": [
        {
          "output_type": "execute_result",
          "data": {
            "text/html": [
              "<img src=\"https://git.io/JtIbc\" width=\"500\"/>"
            ],
            "text/plain": [
              "<IPython.core.display.Image object>"
            ]
          },
          "metadata": {},
          "execution_count": 117
        }
      ]
    },
    {
      "cell_type": "markdown",
      "source": [
        "$\\\n",
        "\\begin{align*}\n",
        "\\dfrac{\\partial J}{\\partial w_j}\\\n",
        "&=\\dfrac{\\partial}{\\partial w_j}\\dfrac{1}{2}\\sum_i\\left(y^{(i)}-\\phi(z^{(i)})\\right)^2 \\\\\n",
        "&=\\dfrac{1}{2}\\dfrac{\\partial}{\\partial w_j}\\sum_i\\left(y^{(i)}-\\phi(z^{(i)})\\right)^2 \\\\\n",
        "&=\\dfrac{1}{2}\\sum_i2\\left(y^{(i)}-\\phi(z^{(i)})\\right)\\dfrac{\\partial}{\\partial w_j}\\left(y^{(i)}-\\phi(z^{(i)})\\right) \\\\\n",
        "&=\\sum_i\\left(y^{(i)}-\\phi(z^{(i)})\\right)\\dfrac{\\partial}{\\partial w_j}\\left(y^{(i)}-\\sum(w_kx_k^{(i)})\\right) \\\\\n",
        "&=\\sum_i\\left(y^{(i)}-\\phi(z^{(i)})\\right)\\left(-x_j^{(i)}\\right) \\\\\n",
        "&=-\\sum_i\\left(y^{(i)}-\\phi(z^{(i)})\\right)x_j^{(i)} \\\\\n",
        "\\end{align*}\n",
        "$\n",
        "\n",
        "$\\mathit\\Delta w_j=-\\eta\\dfrac{\\partial J}{\\partial w_j}=\\eta\\sum_i\\left(y^{(i)}-\\phi(z^{(i)})\\right)x_j^{(i)}$\n",
        "\n",
        "$\\boldsymbol{w} := \\boldsymbol{w} + \\mathit\\Delta \\boldsymbol{w}$"
      ],
      "metadata": {
        "id": "b87HWivBb-c9"
      }
    },
    {
      "cell_type": "markdown",
      "source": [
        "## 2.3.2 파이썬으로 아달린 구현하기"
      ],
      "metadata": {
        "id": "1NDZvWxSb-a4"
      }
    },
    {
      "cell_type": "code",
      "source": [
        "class AdalineGD(object):\n",
        "    \"\"\"적응형 선형 뉴런 분류기\n",
        "\n",
        "    매개변수\n",
        "    ------------\n",
        "    eta : float\n",
        "      학습률 (0.0과 1.0 사이)\n",
        "    n_iter : int\n",
        "      훈련 데이터셋 반복 횟수\n",
        "    random_state : int\n",
        "      가중치 무작위 초기화를 위한 난수 생성기 시드\n",
        "\n",
        "    속성\n",
        "    -----------\n",
        "    w_ : 1d-array\n",
        "      학습된 가중치\n",
        "    cost_ : list\n",
        "      에포크마다 누적된 비용 함수의 제곱합\n",
        "\n",
        "    \"\"\"\n",
        "    def __init__(self, eta=0.01, n_iter=50, random_state=1):\n",
        "        self.eta = eta\n",
        "        self.n_iter = n_iter\n",
        "        self.random_state = random_state\n",
        "\n",
        "    def fit(self, X, y):\n",
        "        \"\"\"훈련 데이터 학습\n",
        "\n",
        "        매개변수\n",
        "        ----------\n",
        "        X : array-like, shape = [n_samples, n_features]\n",
        "          n_samples 개의 샘플과 n_features 개의 특성으로 이루어진 훈련 데이터\n",
        "        y : array-like, shape = [n_samples]\n",
        "          타깃값\n",
        "\n",
        "        반환값\n",
        "        -------\n",
        "        self : object\n",
        "\n",
        "        \"\"\"\n",
        "        rgen = np.random.RandomState(self.random_state)\n",
        "        self.w_ = rgen.normal(loc=0.0, scale=0.01, size=1 + X.shape[1])\n",
        "        self.cost_ = []\n",
        "\n",
        "        for i in range(self.n_iter):\n",
        "            net_input = self.net_input(X)\n",
        "            # 이 코드의 활성화 함수는 항등 함수(identity function)이기 때문에\n",
        "            # 아무런 효과가 없습니다.\n",
        "            # 이 대신 `output = self.net_input(X)`로 바로 쓸 수 있습니다.\n",
        "            # 이 활성화 함수는 개념적인 목적을 위해 만들었습니다.\n",
        "            # (잠시 후에 보게 될) 로지스틱 회귀의 경우 이 함수를 시그모이드 함수로\n",
        "            # 바꾸어 로지스틱 회귀 분류기를 구현합니다.\n",
        "            output = self.activation(net_input)\n",
        "            errors = (y - output)\n",
        "            self.w_[1:] += self.eta * X.T.dot(errors)\n",
        "            self.w_[0] += self.eta * errors.sum()\n",
        "            cost = (errors**2).sum() / 2.0\n",
        "            self.cost_.append(cost)\n",
        "        return self\n",
        "\n",
        "    def net_input(self, X):\n",
        "        \"\"\"최종 입력 계산\"\"\"\n",
        "        return np.dot(X, self.w_[1:]) + self.w_[0]\n",
        "\n",
        "    def activation(self, X):\n",
        "        \"\"\"선형 활성화 계산\"\"\"\n",
        "        return X\n",
        "\n",
        "    def predict(self, X):\n",
        "        \"\"\"단위 계단 함수를 사용하여 클래스 레이블을 반환합니다\"\"\"\n",
        "        return np.where(self.activation(self.net_input(X)) >= 0.0, 1, -1)"
      ],
      "metadata": {
        "id": "fuXjUk7qb-YQ"
      },
      "execution_count": null,
      "outputs": []
    },
    {
      "cell_type": "code",
      "source": [
        "fig, ax = plt.subplots(nrows=1, ncols=2, figsize=(10, 4))\n",
        "\n",
        "ada1 = AdalineGD(n_iter=10, eta=0.01).fit(X, y)\n",
        "ax[0].plot(range(1, len(ada1.cost_) + 1), np.log10(ada1.cost_), marker='o')\n",
        "ax[0].set_xlabel('Epochs')\n",
        "ax[0].set_ylabel('log(Sum-squared-error)')\n",
        "ax[0].set_title('Adaline - Learning rate 0.01')\n",
        "\n",
        "ada2 = AdalineGD(n_iter=10, eta=0.0001).fit(X, y)\n",
        "ax[1].plot(range(1, len(ada2.cost_) + 1), ada2.cost_, marker='o')\n",
        "ax[1].set_xlabel('Epochs')\n",
        "ax[1].set_ylabel('Sum-squared-error')\n",
        "ax[1].set_title('Adaline - Learning rate 0.0001')\n",
        "\n",
        "# plt.savefig('images/02_11.png', dpi=300)\n",
        "plt.show()"
      ],
      "metadata": {
        "colab": {
          "base_uri": "https://localhost:8080/",
          "height": 401
        },
        "id": "BdlkC1mdb-WE",
        "outputId": "83507690-acef-444b-b7d4-3fe502988394"
      },
      "execution_count": null,
      "outputs": [
        {
          "output_type": "display_data",
          "data": {
            "text/plain": [
              "<Figure size 1000x400 with 2 Axes>"
            ],
            "image/png": "[encoded data removed]"
          },
          "metadata": {}
        }
      ]
    },
    {
      "cell_type": "code",
      "source": [
        "Image(url='https://git.io/JtIb4', width=700)"
      ],
      "metadata": {
        "colab": {
          "base_uri": "https://localhost:8080/",
          "height": 260
        },
        "id": "MB6iYNaROOP9",
        "outputId": "2e12c682-2414-41f5-d7fc-b2b91ceaec2b"
      },
      "execution_count": null,
      "outputs": [
        {
          "output_type": "execute_result",
          "data": {
            "text/html": [
              "<img src=\"https://git.io/JtIb4\" width=\"700\"/>"
            ],
            "text/plain": [
              "<IPython.core.display.Image object>"
            ]
          },
          "metadata": {},
          "execution_count": 120
        }
      ]
    },
    {
      "cell_type": "markdown",
      "source": [
        "## 2.3.3 특성 스케일을 조정하여 경사 하강법 결과 향상시키기"
      ],
      "metadata": {
        "id": "adDD_Ki_OONb"
      }
    },
    {
      "cell_type": "markdown",
      "source": [
        "표준화(standardization) : $\\boldsymbol{x}'_j=\\dfrac{\\boldsymbol{x}_j-\\mu_j}{\\sigma_j}$"
      ],
      "metadata": {
        "id": "VQppSUucj_gW"
      }
    },
    {
      "cell_type": "code",
      "source": [
        "Image(url='https://git.io/JtIbB', width=700)"
      ],
      "metadata": {
        "colab": {
          "base_uri": "https://localhost:8080/",
          "height": 345
        },
        "id": "QwcIVOGFj_di",
        "outputId": "af0d9994-ccd7-409e-9a1e-cfb3422fecbe"
      },
      "execution_count": null,
      "outputs": [
        {
          "output_type": "execute_result",
          "data": {
            "text/html": [
              "<img src=\"https://git.io/JtIbB\" width=\"700\"/>"
            ],
            "text/plain": [
              "<IPython.core.display.Image object>"
            ]
          },
          "metadata": {},
          "execution_count": 121
        }
      ]
    },
    {
      "cell_type": "code",
      "source": [
        "# 특성을 표준화합니다.\n",
        "X_std = np.copy(X)\n",
        "X_std[:, 0] = (X[:, 0] - X[:, 0].mean()) / X[:, 0].std()\n",
        "X_std[:, 1] = (X[:, 1] - X[:, 1].mean()) / X[:, 1].std()"
      ],
      "metadata": {
        "id": "nlmgaO3Ej_a9"
      },
      "execution_count": null,
      "outputs": []
    },
    {
      "cell_type": "code",
      "source": [
        "ada_gd = AdalineGD(n_iter=15, eta=0.01)\n",
        "ada_gd.fit(X_std, y)\n",
        "\n",
        "plot_decision_regions(X_std, y, classifier=ada_gd)\n",
        "plt.title('Adaline - Gradient Descent')\n",
        "plt.xlabel('sepal length [standardized]')\n",
        "plt.ylabel('petal length [standardized]')\n",
        "plt.legend(loc='upper left')\n",
        "plt.tight_layout()\n",
        "# plt.savefig('images/02_14_1.png', dpi=300)\n",
        "plt.show()\n",
        "\n",
        "plt.plot(range(1, len(ada_gd.cost_) + 1), ada_gd.cost_, marker='o')\n",
        "plt.xlabel('Epochs')\n",
        "plt.ylabel('Sum-squared-error')\n",
        "\n",
        "plt.tight_layout()\n",
        "# plt.savefig('images/02_14_2.png', dpi=300)\n",
        "plt.show()"
      ],
      "metadata": {
        "colab": {
          "base_uri": "https://localhost:8080/",
          "height": 957
        },
        "id": "MRhRXwsDj_Ya",
        "outputId": "2d64ca9e-96d2-48b1-f61b-3c893b2a1f1c"
      },
      "execution_count": null,
      "outputs": [
        {
          "output_type": "display_data",
          "data": {
            "text/plain": [
              "<Figure size 640x480 with 1 Axes>"
            ],
            "image/png": "[encoded data removed]"
          },
          "metadata": {}
        },
        {
          "output_type": "display_data",
          "data": {
            "text/plain": [
              "<Figure size 640x480 with 1 Axes>"
            ],
            "image/png": "[encoded data removed]"
          },
          "metadata": {}
        }
      ]
    },
    {
      "cell_type": "markdown",
      "source": [
        "## 2.3.4 대규모 머신 러닝과 확률적 경사 하강법"
      ],
      "metadata": {
        "id": "QCqI31x0j_WD"
      }
    },
    {
      "cell_type": "markdown",
      "source": [
        "배치 경사 하강법 : $\\mathit\\Delta \\boldsymbol{w}=\\eta\\sum_i\\left(y^{(i)}-\\phi(z^{(i)})\\right)\\boldsymbol{x}^{(i)}$\n",
        "\n",
        "확률적 경사 하강법 : $\\mathit\\Delta \\boldsymbol{w}=\\eta\\left(y^{(i)}-\\phi(z^{(i)})\\right)\\boldsymbol{x}^{(i)}$"
      ],
      "metadata": {
        "id": "vMh40FvrkcMc"
      }
    },
    {
      "cell_type": "code",
      "source": [
        "class AdalineSGD(object):\n",
        "    \"\"\"ADAptive LInear NEuron 분류기\n",
        "\n",
        "    Parameters\n",
        "    ------------\n",
        "    eta : float\n",
        "      학습률 (0.0과 1.0 사이)\n",
        "    n_iter : int\n",
        "      훈련 데이터셋 반복 횟수\n",
        "    shuffle : bool (default: True)\n",
        "      True로 설정하면 같은 반복이 되지 않도록 에포크마다 훈련 데이터를 섞습니다\n",
        "    random_state : int\n",
        "      가중치 무작위 초기화를 위한 난수 생성기 시드\n",
        "\n",
        "    Attributes\n",
        "    -----------\n",
        "    w_ : 1d-array\n",
        "      학습된 가중치\n",
        "    cost_ : list\n",
        "      모든 훈련 샘플에 대해 에포크마다 누적된 평균 비용 함수의 제곱합\n",
        "\n",
        "    \"\"\"\n",
        "    def __init__(self, eta=0.01, n_iter=10, shuffle=True, random_state=None):\n",
        "        self.eta = eta\n",
        "        self.n_iter = n_iter\n",
        "        self.w_initialized = False\n",
        "        self.shuffle = shuffle\n",
        "        self.random_state = random_state\n",
        "\n",
        "    def fit(self, X, y):\n",
        "        \"\"\"훈련 데이터 학습\n",
        "\n",
        "        Parameters\n",
        "        ----------\n",
        "        X : {array-like}, shape = [n_samples, n_features]\n",
        "          n_samples 개의 샘플과 n_features 개의 특성으로 이루어진 훈련 데이터\n",
        "        y : array-like, shape = [n_samples]\n",
        "          타깃 벡터\n",
        "\n",
        "        반환값\n",
        "        -------\n",
        "        self : object\n",
        "\n",
        "        \"\"\"\n",
        "        self._initialize_weights(X.shape[1])\n",
        "        self.cost_ = []\n",
        "        for i in range(self.n_iter):\n",
        "            if self.shuffle:\n",
        "                X, y = self._shuffle(X, y)\n",
        "            cost = []\n",
        "            for xi, target in zip(X, y):\n",
        "                cost.append(self._update_weights(xi, target))\n",
        "            avg_cost = sum(cost) / len(y)\n",
        "            self.cost_.append(avg_cost)\n",
        "        return self\n",
        "\n",
        "    def partial_fit(self, X, y):\n",
        "        \"\"\"가중치를 다시 초기화하지 않고 훈련 데이터를 학습합니다\"\"\"\n",
        "        if not self.w_initialized:\n",
        "            self._initialize_weights(X.shape[1])\n",
        "        if y.ravel().shape[0] > 1:\n",
        "            for xi, target in zip(X, y):\n",
        "                self._update_weights(xi, target)\n",
        "        else:\n",
        "            self._update_weights(X, y)\n",
        "        return self\n",
        "\n",
        "    def _shuffle(self, X, y):\n",
        "        \"\"\"훈련 데이터를 섞습니다\"\"\"\n",
        "        r = self.rgen.permutation(len(y))\n",
        "        return X[r], y[r]\n",
        "\n",
        "    def _initialize_weights(self, m):\n",
        "        \"\"\"랜덤한 작은 수로 가중치를 초기화합니다\"\"\"\n",
        "        self.rgen = np.random.RandomState(self.random_state)\n",
        "        self.w_ = self.rgen.normal(loc=0.0, scale=0.01, size=1 + m)\n",
        "        self.w_initialized = True\n",
        "\n",
        "    def _update_weights(self, xi, target):\n",
        "        \"\"\"아달린 학습 규칙을 적용하여 가중치를 업데이트합니다\"\"\"\n",
        "        output = self.activation(self.net_input(xi))\n",
        "        error = (target - output)\n",
        "        self.w_[1:] += self.eta * xi.dot(error)\n",
        "        self.w_[0] += self.eta * error\n",
        "        cost = 0.5 * error**2\n",
        "        return cost\n",
        "\n",
        "    def net_input(self, X):\n",
        "        \"\"\"입력 계산\"\"\"\n",
        "        return np.dot(X, self.w_[1:]) + self.w_[0]\n",
        "\n",
        "    def activation(self, X):\n",
        "        \"\"\"선형 활성화 계산\"\"\"\n",
        "        return X\n",
        "\n",
        "    def predict(self, X):\n",
        "        \"\"\"단위 계단 함수를 사용하여 클래스 레이블을 반환합니다\"\"\"\n",
        "        return np.where(self.activation(self.net_input(X)) >= 0.0, 1, -1)"
      ],
      "metadata": {
        "id": "aRPL5TrMkcJj"
      },
      "execution_count": null,
      "outputs": []
    },
    {
      "cell_type": "code",
      "source": [
        "ada_sgd = AdalineSGD(n_iter=15, eta=0.01, random_state=1)\n",
        "ada_sgd.fit(X_std, y)\n",
        "\n",
        "plot_decision_regions(X_std, y, classifier=ada_sgd)\n",
        "plt.title('Adaline - Stochastic Gradient Descent')\n",
        "plt.xlabel('sepal length [standardized]')\n",
        "plt.ylabel('petal length [standardized]')\n",
        "plt.legend(loc='upper left')\n",
        "\n",
        "plt.tight_layout()\n",
        "# plt.savefig('images/02_15_1.png', dpi=300)\n",
        "plt.show()\n",
        "\n",
        "plt.plot(range(1, len(ada_sgd.cost_) + 1), ada_sgd.cost_, marker='o')\n",
        "plt.xlabel('Epochs')\n",
        "plt.ylabel('Average Cost')\n",
        "\n",
        "plt.tight_layout()\n",
        "# plt.savefig('images/02_15_2.png', dpi=300)\n",
        "plt.show()"
      ],
      "metadata": {
        "colab": {
          "base_uri": "https://localhost:8080/",
          "height": 957
        },
        "id": "8nhzXq1IkcGs",
        "outputId": "9960783f-f04d-4c93-f783-ed1fc3f2c1f6"
      },
      "execution_count": null,
      "outputs": [
        {
          "output_type": "display_data",
          "data": {
            "text/plain": [
              "<Figure size 640x480 with 1 Axes>"
            ],
            "image/png": "[encoded data removed]"
          },
          "metadata": {}
        },
        {
          "output_type": "display_data",
          "data": {
            "text/plain": [
              "<Figure size 640x480 with 1 Axes>"
            ],
            "image/png": "[encoded data removed]"
          },
          "metadata": {}
        }
      ]
    },
    {
      "cell_type": "code",
      "source": [
        "ada_sgd.partial_fit(X_std[0, :], y[0])"
      ],
      "metadata": {
        "colab": {
          "base_uri": "https://localhost:8080/"
        },
        "id": "sgVUkQGokcEU",
        "outputId": "3060db70-d351-4614-d68d-dfcd079f99d0"
      },
      "execution_count": null,
      "outputs": [
        {
          "output_type": "execute_result",
          "data": {
            "text/plain": [
              "<__main__.AdalineSGD at 0x7c4f79443820>"
            ]
          },
          "metadata": {},
          "execution_count": 126
        }
      ]
    },
    {
      "cell_type": "code",
      "source": [],
      "metadata": {
        "id": "A-w4t5KgkcB0"
      },
      "execution_count": null,
      "outputs": []
    },
    {
      "cell_type": "code",
      "source": [],
      "metadata": {
        "id": "fkrArCjMj-rs"
      },
      "execution_count": null,
      "outputs": []
    }
  ]
}