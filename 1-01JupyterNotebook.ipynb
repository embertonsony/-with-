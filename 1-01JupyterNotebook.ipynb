{
 "cells": [
  {
   "cell_type": "markdown",
   "id": "fbeb42a3-60d2-4de2-9c1d-c5ae59efe2a5",
   "metadata": {
    "slideshow": {
     "slide_type": "slide"
    }
   },
   "source": [
    "# Jupyter Notebook\n",
    "\n",
    "<img src=\"https://jupyter.org/assets/logos/rectanglelogo-greytext-orangebody-greymoons.svg\" width=\"200\" />\n",
    "\n",
    "> 수정 2022.05"
   ]
  },
  {
   "cell_type": "markdown",
   "id": "ad5c13ba-b4dc-419a-97fd-3ff5fe65b155",
   "metadata": {},
   "source": [
    "에디트 모드/ 명령모드"
   ]
  },
  {
   "cell_type": "markdown",
   "id": "3e44635b-0c54-4c92-a9bb-6d84831925b7",
   "metadata": {
    "slideshow": {
     "slide_type": "slide"
    }
   },
   "source": [
    "브라우저 기반 인터랙티브 파이썬 환경\n",
    "* 인터랙티브 파이썬 코딩\n",
    "* 매직 명령어\n",
    "* 시스템 쉘\n",
    "* 마크다운 문법\n",
    "* 수학식 표현 (Latex)\n",
    "* 슬라이드, HTML, PDF\n",
    "* 대규모 병렬 컴퓨팅 (IPython.parallel)"
   ]
  },
  {
   "cell_type": "markdown",
   "id": "15ca0516-5834-48c9-ba83-756cafdc5163",
   "metadata": {},
   "source": [
    "### iPython 동작\n",
    "\n",
    "<img src='https://ipython.org/ipython-doc/3/_images/notebook_components.png' width='500'>\n",
    "- https://ipython.org/ipython-doc/3/development/how_ipython_works.html\n",
    "\n",
    "\n"
   ]
  },
  {
   "attachments": {
    "0027e823-85e1-4698-a8ac-08bfe7a604ea.png": {
     "image/png": "[encoded data removed]"
    }
   },
   "cell_type": "markdown",
   "id": "2a3b8fe1-5d44-409f-8a3b-3af8ba2924c5",
   "metadata": {},
   "source": [
    "### Kernel\n",
    "\n",
    "커널은 노트북 문서의 코드를 실행할 수 있는 엔진이다.\n",
    "\n",
    "- Kernel 이란: https://jupyter-notebook-beginner-guide.readthedocs.io/en/latest/what_is_jupyter.html#kernel\n",
    "- Major Kernels: https://docs.jupyter.org/en/latest/#kernels\n",
    "\n",
    "쥬피터 노트북 ( 혹은 랩) 에서 노트북 문서 실행시 선택할 수 있다.\n",
    "\n",
    "![image.png](attachment:0027e823-85e1-4698-a8ac-08bfe7a604ea.png)"
   ]
  },
  {
   "cell_type": "markdown",
   "id": "e0240615-2f32-4e43-aee7-a29315e08b59",
   "metadata": {},
   "source": [
    "#### XPython (Xesus Kernel)\n",
    "\n",
    "Jupyter Kernel 프로토콜 xesus 의 네이티브 구현한 노트북 커널이다.\n",
    " - https://github.com/jupyter-xeus/xeus-python"
   ]
  },
  {
   "cell_type": "markdown",
   "id": "6758c974-fb58-4adb-964d-cbd30e8c756f",
   "metadata": {
    "slideshow": {
     "slide_type": "slide"
    }
   },
   "source": [
    "# 특징\n",
    "\n",
    "* 웹기반의 대화적\n",
    "* 노트 정리하듯 정리, 손쉽게 공유\n",
    "* 개발, 문서화 환경\n",
    "* **매우 혁신적인 도구**\n",
    "* 웹 응용프로그램과 문서를 결합한 형태\n",
    "* 실행 코드, 설명 텍스트, 수학식, 미디어도 문서에 포함"
   ]
  },
  {
   "cell_type": "markdown",
   "id": "a9d961a8-b4c3-4c0c-8aab-9e91fc3183fb",
   "metadata": {
    "slideshow": {
     "slide_type": "slide"
    }
   },
   "source": [
    "# 코드 작성\n",
    "\n",
    "* 코드 편집, 자동구문강조 syntax hilighting, 자동 들여쓰기, 탭 완성\n",
    "* 실행결과를 브라우저내 inline 에 표시\n",
    "* HTML, LaTex 수학식, PNG, SVG 등 표현, matplotlib을 중간 삽입\n",
    "* Markdowm 편집하여 간단한 서식있는 문서를 작성\n",
    "* 수학적 표기법을 포함하고, 표현 Mathjax"
   ]
  },
  {
   "cell_type": "markdown",
   "id": "bd6ee474-92c1-4a43-ba12-fd2a0e5791d4",
   "metadata": {
    "slideshow": {
     "slide_type": "slide"
    }
   },
   "source": [
    "# 시작과 종료\n",
    "\n",
    "시작 (로컬 혹은 서버로 실행)\n",
    "\n",
    "쥬피터 노트북\n",
    "\n",
    "```bash\n",
    "# 서버로 실행\n",
    "$ jupyter notebook --ip=0.0.0.0 --port=8080\n",
    "```"
   ]
  },
  {
   "cell_type": "markdown",
   "id": "05b3aca5-2a79-45e1-ab0f-636cb39245d3",
   "metadata": {
    "slideshow": {
     "slide_type": "slide"
    }
   },
   "source": [
    "쥬피터 랩\n",
    "\n",
    "```bash\n",
    "$ jupyter-lab --no-browser --port=8080 DIR\n",
    "```\n",
    "\n",
    "\n",
    "종료는 Ctrl+C"
   ]
  },
  {
   "cell_type": "markdown",
   "id": "35a1025d-12c3-49f5-af86-a539220ea620",
   "metadata": {},
   "source": [
    "# 셀 이란\n",
    "\n",
    "코드 / 텍스트를 입력하는 기능\n",
    "\n",
    "1. 코드 셀\n",
    "2. 마크다운 셀"
   ]
  },
  {
   "cell_type": "markdown",
   "id": "94f08c2a-fb82-4b09-a43e-c3ae95bfbf81",
   "metadata": {
    "slideshow": {
     "slide_type": "slide"
    }
   },
   "source": [
    "# 명령모드와 편집모드\n",
    "\n",
    "Jupyter Notebook 키보드 입력에는 두 가지 모드가 있다. vi 에디터의 명령/편집 모드를 사용한다.\n",
    "* 명령모드(Command mode): 노트북의 셀을 편집 (파란색+회색 테두리) \n",
    "* 편집모드(Edit mode): 셀에 있는 텍스트나 코드를 편집 (녹색 테두리)\n",
    "\n",
    "\n",
    "모드 전환\n",
    "* Esc키를 누르면 명령모드로, Enter를 누르면 편집모드로 상호전환\n",
    "* 명령 모드에서 j,k 키로 아래/위로 이동 (vi 에디터)\n",
    "* 도움말 표시: 명령 모드에서 h 키"
   ]
  },
  {
   "cell_type": "markdown",
   "id": "a5ca95f1-2411-413a-93c3-85fde66d3c2d",
   "metadata": {
    "slideshow": {
     "slide_type": "slide"
    }
   },
   "source": [
    "# 실행과 저장(명령모드, 편집모드 공통)\n",
    "자주 사용되는 키보드를 확인하고 익혀두자\n",
    "\n",
    "* Ctrl-Enter 현재 셀 실행 \n",
    "* Shift-Enter 셀 실행 + 아래로 이동 \n",
    "* Ctrl-s: 노트북 저장 "
   ]
  },
  {
   "cell_type": "markdown",
   "id": "47a8c273-2c97-4440-b0a7-4a5124270cc6",
   "metadata": {
    "slideshow": {
     "slide_type": "slide"
    }
   },
   "source": [
    "# 명령모드(Esc를 눌러 활성화)\n",
    "자주 사용되는 키보드를 확인하고 익혀두자\n",
    "\n",
    "* Enter 편집 모드 \n",
    "* y: 코드로 전환 \n",
    "* m: 마크다운으로 전환 \n",
    "* ↑, k : 위로, \n",
    "* ↓, j : 아래로 \n",
    "* Ctrl-k: 셀을 위로 이동 \n",
    "* Ctrl-j: 셀을 아래로 이동 \n",
    "* a: 위에 셀 추가 (b는 아래에 셀 추가)\n",
    "* c: 셀 복사 \n",
    "* v: 아래에 셀 붙여넣기 \n",
    "* Shift-m: 셀 아래 병합 \n",
    "* h: 키보드 바로가기 도움말 \n",
    "* z: 복사취소\n",
    "* x: 명령 전 취소\n",
    "* dd: 햔재 셀 삭제"
   ]
  },
  {
   "cell_type": "code",
   "execution_count": null,
   "id": "5e3e0ded-e35b-49f1-9589-8cbcfb4ce503",
   "metadata": {},
   "outputs": [],
   "source": [
    "a = 100**10\n",
    "print(a)"
   ]
  },
  {
   "cell_type": "markdown",
   "id": "6b2e3429-0358-4959-8648-db95df48b9ad",
   "metadata": {
    "slideshow": {
     "slide_type": "slide"
    }
   },
   "source": [
    "# 편집모드(Enter를 눌러 활성화)\n",
    "자주 사용되는 키보드를 확인하고 익혀두자\n",
    "\n",
    "* Esc: 명령모드 \n",
    "* Ctrl-Shift--: 셀 분할 \n",
    "* Ctrl-Left: 단어 단위 왼쪽으로 \n",
    "* Ctrl-Right: 단어 단위 오른쪽으로 "
   ]
  },
  {
   "cell_type": "code",
   "execution_count": null,
   "id": "4c998d90-f866-4acf-8a15-c13618c6f3e0",
   "metadata": {},
   "outputs": [],
   "source": []
  },
  {
   "cell_type": "markdown",
   "id": "c4f24356-06ef-4998-bdac-035638c234f9",
   "metadata": {},
   "source": [
    "## **2 Cell 편집하기**\n",
    "\n",
    "### **01 셀 내부 선택 / 셀 외부 선택**"
   ]
  },
  {
   "cell_type": "code",
   "execution_count": 7,
   "id": "a4a8c0fd-7b6c-4fe8-9b94-c938912b87df",
   "metadata": {},
   "outputs": [],
   "source": [
    "# Enter : 셀 내부로 들어가기"
   ]
  },
  {
   "cell_type": "code",
   "execution_count": 8,
   "id": "fd9ba73e-c8a2-4cb8-81f9-26762f14659c",
   "metadata": {},
   "outputs": [],
   "source": [
    "# ESC : 셀 외부로 빠져나가기"
   ]
  },
  {
   "cell_type": "markdown",
   "id": "ae17bea9-08ab-41a8-8f44-72851fd2a0ed",
   "metadata": {},
   "source": [
    "### **02 셀 분리**\n",
    "Ctrl + Shift + '-'"
   ]
  },
  {
   "cell_type": "code",
   "execution_count": null,
   "id": "656b7bc8-b190-48e0-a1fc-17e4d9c14031",
   "metadata": {},
   "outputs": [],
   "source": [
    "# 셀 내부에서 작업하다가\n",
    "print('안녕')\n",
    "\n",
    "# 일정 부분에서\n",
    "# Ctrl + Shift + '-'"
   ]
  },
  {
   "cell_type": "markdown",
   "id": "d407ebb2-a2c0-405a-8fe5-521d08cf8252",
   "metadata": {},
   "source": [
    "### **02 셀 병합**\n",
    "Shift + 'm'"
   ]
  },
  {
   "cell_type": "code",
   "execution_count": 10,
   "id": "ddacb2ef-3fb2-41b1-9ab9-f4e06d86ce1c",
   "metadata": {},
   "outputs": [],
   "source": [
    "# 셀 아웃한 뒤 \n",
    "# Shift + 'm' \n",
    "# 실수로 'm' 을 누르면 셀의 속성이 Mark Down 으로 바뀐다"
   ]
  },
  {
   "cell_type": "markdown",
   "id": "6f0fe668-7ffd-4af0-a1a7-7c278ae60349",
   "metadata": {},
   "source": [
    "## **3 Cell 속성 바꾸기**\n",
    "Code / Mark Down"
   ]
  },
  {
   "cell_type": "code",
   "execution_count": 11,
   "id": "eef1c362-574f-4252-a625-9bfcc510c19c",
   "metadata": {},
   "outputs": [],
   "source": [
    "# ESC 로 셀 외부로 빠진 뒤\n",
    "# 'Y' : Code 속성으로 변경\n",
    "# 'M' : MarkDown 속성으로 변경"
   ]
  },
  {
   "cell_type": "markdown",
   "id": "b69a3851-546e-4d3a-8e3f-95a9bf4c8020",
   "metadata": {},
   "source": [
    "\n",
    "## **4 Cell 객체 편집하기**\n",
    "Code / Mark Down"
   ]
  },
  {
   "cell_type": "code",
   "execution_count": 12,
   "id": "d0bc3a46-fdc5-4936-aeec-3b30b48913f5",
   "metadata": {},
   "outputs": [],
   "source": [
    "# ESC\n",
    "# \"D\" \"D\"  Delete Cell"
   ]
  },
  {
   "cell_type": "code",
   "execution_count": 13,
   "id": "1a19b4af-3417-4b02-a0aa-7a04f3e8ad86",
   "metadata": {},
   "outputs": [],
   "source": [
    "# ESC\n",
    "# \"B\" 빈쎌 삽입하기"
   ]
  },
  {
   "cell_type": "markdown",
   "id": "eef8ec3e-24c5-4f20-9f88-bf0f8c61dba1",
   "metadata": {},
   "source": [
    "<br><br>\n",
    "## **5 ipython 단축키**\n",
    "http://bigbigdata.tistory.com/65"
   ]
  },
  {
   "cell_type": "markdown",
   "id": "5cc129e2-9d19-419f-8e10-4a55c120e7c7",
   "metadata": {},
   "source": [
    "# Object Information"
   ]
  },
  {
   "cell_type": "markdown",
   "id": "4ad6b89c-c55d-4aae-a229-ed9f8bc44624",
   "metadata": {},
   "source": [
    "### **01. 객체 정보 확인** <small> shift + TAB </small>\n",
    "변수를 키인하고 **shift + TAB** 누르면 내부 특성이 조회됨"
   ]
  },
  {
   "cell_type": "code",
   "execution_count": 5,
   "id": "41ae7a49-09fb-4d36-ae34-982323f01e4f",
   "metadata": {},
   "outputs": [],
   "source": [
    "a = 10"
   ]
  },
  {
   "cell_type": "code",
   "execution_count": 6,
   "id": "aa885729-8565-47cd-b8ba-dbb341884337",
   "metadata": {
    "tags": []
   },
   "outputs": [
    {
     "data": {
      "text/plain": [
       "10"
      ]
     },
     "execution_count": 6,
     "metadata": {},
     "output_type": "execute_result"
    }
   ],
   "source": [
    "a"
   ]
  },
  {
   "cell_type": "code",
   "execution_count": null,
   "id": "5f734674-9e9e-44ce-821f-311f18f8fa24",
   "metadata": {},
   "outputs": [],
   "source": []
  },
  {
   "cell_type": "markdown",
   "id": "8e818d0c-9c90-4d45-86f4-fd0920f219da",
   "metadata": {},
   "source": [
    "### **02 함수정보 확인** <small> shift + TAB </small>\n",
    "함수를 키인하고 **shift + TAB** 누르면 내부 특성이 조회됨"
   ]
  },
  {
   "cell_type": "code",
   "execution_count": 7,
   "id": "6d4481d1-8a5e-4a43-9af3-98052e5c9f69",
   "metadata": {},
   "outputs": [
    {
     "data": {
      "text/plain": [
       "5"
      ]
     },
     "execution_count": 7,
     "metadata": {},
     "output_type": "execute_result"
    }
   ],
   "source": [
    "def sum(a,b):\n",
    "    return a + b\n",
    "\n",
    "sum(1, 4)"
   ]
  },
  {
   "cell_type": "code",
   "execution_count": 10,
   "id": "800b39ff-1039-4fbf-8d66-4e480417d176",
   "metadata": {},
   "outputs": [
    {
     "data": {
      "text/plain": [
       "<function __main__.sum(a, b)>"
      ]
     },
     "execution_count": 10,
     "metadata": {},
     "output_type": "execute_result"
    }
   ],
   "source": [
    "# help() 해도좋다 .\n",
    "sum"
   ]
  },
  {
   "cell_type": "markdown",
   "id": "ce6d6e6c-0c9a-4bf1-a1f4-6770636cd444",
   "metadata": {},
   "source": [
    "docstrings 확인\n",
    "- \"\"\" \"\"\"\n",
    "- 함수를 조금 더 풍성하게 설명을 넣을 수 있다."
   ]
  },
  {
   "cell_type": "code",
   "execution_count": 11,
   "id": "c461127b-79e1-4c70-970f-a8e21f9ef4e8",
   "metadata": {},
   "outputs": [],
   "source": [
    "def sum(a,b):\n",
    "    \"\"\"sum()는 두 수를 더한 결과를 반환한다.\n",
    "    \"\"\"\n",
    "    return a + b"
   ]
  },
  {
   "cell_type": "code",
   "execution_count": null,
   "id": "e5767bf7-4fac-4813-bd77-70aa23357f42",
   "metadata": {},
   "outputs": [],
   "source": [
    "sum"
   ]
  },
  {
   "cell_type": "markdown",
   "id": "d477553d-fd98-4436-9ea3-0f74ee0908ce",
   "metadata": {},
   "source": [
    "### **03 객체/ 함수정보 확인** <small> shift + TAB </small>\n",
    "**?** by Codes"
   ]
  },
  {
   "cell_type": "code",
   "execution_count": 12,
   "id": "2c6019ea-63e1-4127-8e54-09e94389d683",
   "metadata": {},
   "outputs": [
    {
     "data": {
      "text/plain": [
       "\u001b[1;31mType:\u001b[0m        int\n",
       "\u001b[1;31mString form:\u001b[0m 10\n",
       "\u001b[1;31mDocstring:\u001b[0m  \n",
       "int([x]) -> integer\n",
       "int(x, base=10) -> integer\n",
       "\n",
       "Convert a number or string to an integer, or return 0 if no arguments\n",
       "are given.  If x is a number, return x.__int__().  For floating point\n",
       "numbers, this truncates towards zero.\n",
       "\n",
       "If x is not a number or if base is given, then x must be a string,\n",
       "bytes, or bytearray instance representing an integer literal in the\n",
       "given base.  The literal can be preceded by '+' or '-' and be surrounded\n",
       "by whitespace.  The base defaults to 10.  Valid bases are 0 and 2-36.\n",
       "Base 0 means to interpret the base from the string as an integer literal.\n",
       ">>> int('0b100', base=0)\n",
       "4"
      ]
     },
     "metadata": {},
     "output_type": "display_data"
    }
   ],
   "source": [
    "a?"
   ]
  },
  {
   "cell_type": "code",
   "execution_count": 14,
   "id": "58a76eb9-4e54-44b6-bd69-0b54289c78be",
   "metadata": {
    "tags": []
   },
   "outputs": [
    {
     "data": {
      "text/plain": [
       "\u001b[1;31mSignature:\u001b[0m \u001b[0msum\u001b[0m\u001b[1;33m(\u001b[0m\u001b[0ma\u001b[0m\u001b[1;33m,\u001b[0m \u001b[0mb\u001b[0m\u001b[1;33m)\u001b[0m\u001b[1;33m\u001b[0m\u001b[1;33m\u001b[0m\u001b[0m\n",
       "\u001b[1;31mDocstring:\u001b[0m\n",
       "sum()는 두 수를 더한 결과를 반환한다.\n",
       "    \n",
       "\u001b[1;31mFile:\u001b[0m      c:\\users\\kys21\\appdata\\local\\temp\\ipykernel_19732\\2814145070.py\n",
       "\u001b[1;31mType:\u001b[0m      function"
      ]
     },
     "metadata": {},
     "output_type": "display_data"
    }
   ],
   "source": [
    "sum?"
   ]
  },
  {
   "cell_type": "code",
   "execution_count": 17,
   "id": "be27c3ad-c354-4550-978f-d83e57569e65",
   "metadata": {},
   "outputs": [
    {
     "data": {
      "text/plain": [
       "\u001b[1;31mSignature:\u001b[0m \u001b[0msum\u001b[0m\u001b[1;33m(\u001b[0m\u001b[0ma\u001b[0m\u001b[1;33m,\u001b[0m \u001b[0mb\u001b[0m\u001b[1;33m)\u001b[0m\u001b[1;33m\u001b[0m\u001b[1;33m\u001b[0m\u001b[0m\n",
       "\u001b[1;31mSource:\u001b[0m   \n",
       "\u001b[1;32mdef\u001b[0m \u001b[0msum\u001b[0m\u001b[1;33m(\u001b[0m\u001b[0ma\u001b[0m\u001b[1;33m,\u001b[0m\u001b[0mb\u001b[0m\u001b[1;33m)\u001b[0m\u001b[1;33m:\u001b[0m\u001b[1;33m\n",
       "\u001b[0m    \u001b[1;34m\"\"\"sum()는 두 수를 더한 결과를 반환한다.\n",
       "    \"\"\"\u001b[0m\u001b[1;33m\n",
       "\u001b[0m    \u001b[1;32mreturn\u001b[0m \u001b[0ma\u001b[0m \u001b[1;33m+\u001b[0m \u001b[0mb\u001b[0m\u001b[1;33m\u001b[0m\u001b[1;33m\u001b[0m\u001b[0m\n",
       "\u001b[1;31mFile:\u001b[0m      c:\\users\\kys21\\appdata\\local\\temp\\ipykernel_19732\\2814145070.py\n",
       "\u001b[1;31mType:\u001b[0m      function"
      ]
     },
     "metadata": {},
     "output_type": "display_data"
    }
   ],
   "source": [
    "# 소스 확인\n",
    "sum??"
   ]
  },
  {
   "cell_type": "code",
   "execution_count": 6,
   "id": "d4f2f0e2-ab90-493d-a7f4-e113e88b2569",
   "metadata": {},
   "outputs": [],
   "source": [
    "# sum()?"
   ]
  },
  {
   "cell_type": "code",
   "execution_count": 1,
   "id": "77b7d38d-db3a-4f46-8bbc-4b8c88edca1a",
   "metadata": {},
   "outputs": [],
   "source": [
    "import numpy as np"
   ]
  },
  {
   "cell_type": "code",
   "execution_count": null,
   "id": "2b318b04-fd0d-4ae7-a835-5ed2f444be72",
   "metadata": {},
   "outputs": [],
   "source": [
    "np.exp"
   ]
  },
  {
   "cell_type": "code",
   "execution_count": null,
   "id": "1d9aeb67-7300-4290-9c8a-c83e6622bf60",
   "metadata": {
    "tags": []
   },
   "outputs": [],
   "source": [
    "help(np.exp)   # docstrings"
   ]
  },
  {
   "cell_type": "markdown",
   "id": "25750862-8e8f-4a16-944a-d6112a3602b1",
   "metadata": {},
   "source": [
    "### 노트북 도움말 `?` 이용"
   ]
  },
  {
   "cell_type": "code",
   "execution_count": null,
   "id": "9642506b-e53a-4872-aa56-da980a9111a9",
   "metadata": {},
   "outputs": [],
   "source": [
    "add?"
   ]
  },
  {
   "cell_type": "code",
   "execution_count": null,
   "id": "1d02528e-c90f-4825-94b0-1c97bc074f18",
   "metadata": {},
   "outputs": [],
   "source": [
    "add??"
   ]
  },
  {
   "cell_type": "markdown",
   "id": "242e8619-9e49-4d7a-af88-34a87e6e182b",
   "metadata": {},
   "source": [
    "### 노트북 도움말 : **Shift + TAB**\n"
   ]
  },
  {
   "cell_type": "code",
   "execution_count": null,
   "id": "6a096922-3704-4827-a8d2-c27a2dd50fff",
   "metadata": {},
   "outputs": [],
   "source": [
    "add    # Shift+tab"
   ]
  },
  {
   "cell_type": "markdown",
   "id": "23a25057-a626-4c41-9d44-f01b06826da0",
   "metadata": {},
   "source": [
    "# 매직커맨드\n",
    "\n",
    "- %\n",
    "- %% \n"
   ]
  },
  {
   "cell_type": "code",
   "execution_count": 2,
   "id": "62d7e7c3-7663-4b6d-a14b-ee7da3ef0022",
   "metadata": {
    "tags": []
   },
   "outputs": [
    {
     "data": {
      "application/json": {
       "cell": {
        "!": "OSMagics",
        "HTML": "Other",
        "SVG": "Other",
        "bash": "Other",
        "capture": "ExecutionMagics",
        "cmd": "Other",
        "debug": "ExecutionMagics",
        "file": "Other",
        "html": "DisplayMagics",
        "javascript": "DisplayMagics",
        "js": "DisplayMagics",
        "latex": "DisplayMagics",
        "markdown": "DisplayMagics",
        "perl": "Other",
        "prun": "ExecutionMagics",
        "pypy": "Other",
        "python": "Other",
        "python2": "Other",
        "python3": "Other",
        "ruby": "Other",
        "script": "ScriptMagics",
        "sh": "Other",
        "svg": "DisplayMagics",
        "sx": "OSMagics",
        "system": "OSMagics",
        "time": "ExecutionMagics",
        "timeit": "ExecutionMagics",
        "writefile": "OSMagics"
       },
       "line": {
        "alias": "OSMagics",
        "alias_magic": "BasicMagics",
        "autoawait": "AsyncMagics",
        "autocall": "AutoMagics",
        "automagic": "AutoMagics",
        "autosave": "KernelMagics",
        "bookmark": "OSMagics",
        "cd": "OSMagics",
        "clear": "KernelMagics",
        "cls": "KernelMagics",
        "colors": "BasicMagics",
        "conda": "PackagingMagics",
        "config": "ConfigMagics",
        "connect_info": "KernelMagics",
        "copy": "Other",
        "ddir": "Other",
        "debug": "ExecutionMagics",
        "dhist": "OSMagics",
        "dirs": "OSMagics",
        "doctest_mode": "BasicMagics",
        "echo": "Other",
        "ed": "Other",
        "edit": "KernelMagics",
        "env": "OSMagics",
        "gui": "BasicMagics",
        "hist": "Other",
        "history": "HistoryMagics",
        "killbgscripts": "ScriptMagics",
        "ldir": "Other",
        "less": "KernelMagics",
        "load": "CodeMagics",
        "load_ext": "ExtensionMagics",
        "loadpy": "CodeMagics",
        "logoff": "LoggingMagics",
        "logon": "LoggingMagics",
        "logstart": "LoggingMagics",
        "logstate": "LoggingMagics",
        "logstop": "LoggingMagics",
        "ls": "Other",
        "lsmagic": "BasicMagics",
        "macro": "ExecutionMagics",
        "magic": "BasicMagics",
        "matplotlib": "PylabMagics",
        "mkdir": "Other",
        "more": "KernelMagics",
        "notebook": "BasicMagics",
        "page": "BasicMagics",
        "pastebin": "CodeMagics",
        "pdb": "ExecutionMagics",
        "pdef": "NamespaceMagics",
        "pdoc": "NamespaceMagics",
        "pfile": "NamespaceMagics",
        "pinfo": "NamespaceMagics",
        "pinfo2": "NamespaceMagics",
        "pip": "PackagingMagics",
        "popd": "OSMagics",
        "pprint": "BasicMagics",
        "precision": "BasicMagics",
        "prun": "ExecutionMagics",
        "psearch": "NamespaceMagics",
        "psource": "NamespaceMagics",
        "pushd": "OSMagics",
        "pwd": "OSMagics",
        "pycat": "OSMagics",
        "pylab": "PylabMagics",
        "qtconsole": "KernelMagics",
        "quickref": "BasicMagics",
        "recall": "HistoryMagics",
        "rehashx": "OSMagics",
        "reload_ext": "ExtensionMagics",
        "ren": "Other",
        "rep": "Other",
        "rerun": "HistoryMagics",
        "reset": "NamespaceMagics",
        "reset_selective": "NamespaceMagics",
        "rmdir": "Other",
        "run": "ExecutionMagics",
        "save": "CodeMagics",
        "sc": "OSMagics",
        "set_env": "OSMagics",
        "store": "StoreMagics",
        "sx": "OSMagics",
        "system": "OSMagics",
        "tb": "ExecutionMagics",
        "time": "ExecutionMagics",
        "timeit": "ExecutionMagics",
        "unalias": "OSMagics",
        "unload_ext": "ExtensionMagics",
        "who": "NamespaceMagics",
        "who_ls": "NamespaceMagics",
        "whos": "NamespaceMagics",
        "xdel": "NamespaceMagics",
        "xmode": "BasicMagics"
       }
      },
      "text/plain": [
       "Available line magics:\n",
       "%alias  %alias_magic  %autoawait  %autocall  %automagic  %autosave  %bookmark  %cd  %clear  %cls  %colors  %conda  %config  %connect_info  %copy  %ddir  %debug  %dhist  %dirs  %doctest_mode  %echo  %ed  %edit  %env  %gui  %hist  %history  %killbgscripts  %ldir  %less  %load  %load_ext  %loadpy  %logoff  %logon  %logstart  %logstate  %logstop  %ls  %lsmagic  %macro  %magic  %matplotlib  %mkdir  %more  %notebook  %page  %pastebin  %pdb  %pdef  %pdoc  %pfile  %pinfo  %pinfo2  %pip  %popd  %pprint  %precision  %prun  %psearch  %psource  %pushd  %pwd  %pycat  %pylab  %qtconsole  %quickref  %recall  %rehashx  %reload_ext  %ren  %rep  %rerun  %reset  %reset_selective  %rmdir  %run  %save  %sc  %set_env  %store  %sx  %system  %tb  %time  %timeit  %unalias  %unload_ext  %who  %who_ls  %whos  %xdel  %xmode\n",
       "\n",
       "Available cell magics:\n",
       "%%!  %%HTML  %%SVG  %%bash  %%capture  %%cmd  %%debug  %%file  %%html  %%javascript  %%js  %%latex  %%markdown  %%perl  %%prun  %%pypy  %%python  %%python2  %%python3  %%ruby  %%script  %%sh  %%svg  %%sx  %%system  %%time  %%timeit  %%writefile\n",
       "\n",
       "Automagic is ON, % prefix IS NOT needed for line magics."
      ]
     },
     "execution_count": 2,
     "metadata": {},
     "output_type": "execute_result"
    }
   ],
   "source": [
    "%lsmagic"
   ]
  },
  {
   "cell_type": "code",
   "execution_count": null,
   "id": "9afc4e2e-6451-4ed7-9fc5-6150ec779e49",
   "metadata": {},
   "outputs": [],
   "source": [
    "np"
   ]
  },
  {
   "cell_type": "code",
   "execution_count": 3,
   "id": "3e50cef0-9141-4a63-8f76-bfd021b3b376",
   "metadata": {},
   "outputs": [
    {
     "name": "stdout",
     "output_type": "stream",
     "text": [
      " C 드라이브의 볼륨에는 이름이 없습니다.\n",
      " 볼륨 일련 번호: EE24-C8C3\n",
      "\n",
      " C:\\Users\\kys21\\pythondate 디렉터리\n",
      "\n",
      "2023-03-16  오전 10:03    <DIR>          .\n",
      "2023-03-16  오전 10:03    <DIR>          ..\n",
      "2023-03-15  오후 05:27    <DIR>          .ipynb_checkpoints\n",
      "2023-03-15  오후 03:26             3,371 1-00개발환경.ipynb\n",
      "2023-03-16  오전 10:03            76,527 1-01JupyterNotebook.ipynb\n",
      "2023-03-15  오후 03:26         1,937,368 1-03Basic1_A.ipynb\n",
      "2023-03-15  오후 03:37            16,573 1-03Basic2.ipynb\n",
      "2023-03-15  오후 03:38           152,481 1-04Sequence_0.ipynb\n",
      "2023-03-15  오후 03:38            40,221 1-05Strings-Usages.ipynb\n",
      "2023-03-13  오후 10:54                72 Untitled.ipynb\n",
      "2023-03-15  오후 05:29                19 untitled.md\n",
      "               8개 파일           2,226,632 바이트\n",
      "               3개 디렉터리  105,899,376,640 바이트 남음\n"
     ]
    }
   ],
   "source": [
    "%ls"
   ]
  },
  {
   "cell_type": "code",
   "execution_count": null,
   "id": "2aabfaf3-f7c4-4909-9611-eebacd979550",
   "metadata": {},
   "outputs": [],
   "source": []
  },
  {
   "cell_type": "code",
   "execution_count": null,
   "id": "ab0b9c69-b0be-4ab7-b509-a8d8db544d35",
   "metadata": {},
   "outputs": [],
   "source": [
    "%cd Jupyter-AI/"
   ]
  },
  {
   "cell_type": "code",
   "execution_count": 22,
   "id": "858ce59a-1ac6-4b6c-b5fc-de79ddc7c52b",
   "metadata": {},
   "outputs": [
    {
     "name": "stdout",
     "output_type": "stream",
     "text": [
      "Variable   Type        Data/Info\n",
      "--------------------------------\n",
      "sum        function    <function sum at 0x0000025A8C5463B0>\n"
     ]
    }
   ],
   "source": [
    "%whos"
   ]
  },
  {
   "cell_type": "code",
   "execution_count": 21,
   "id": "b02e1a32-3545-4dab-b10b-cbf19670ca32",
   "metadata": {},
   "outputs": [],
   "source": [
    "del a"
   ]
  },
  {
   "cell_type": "code",
   "execution_count": null,
   "id": "095a9479-4c05-4518-9522-a75757c3e984",
   "metadata": {},
   "outputs": [],
   "source": [
    "%whos"
   ]
  },
  {
   "cell_type": "code",
   "execution_count": null,
   "id": "cc257e82-657f-478a-aa4a-1d60158a4ab5",
   "metadata": {},
   "outputs": [],
   "source": []
  },
  {
   "cell_type": "code",
   "execution_count": null,
   "id": "fccef928-81ca-4c4c-b1bc-9a5b5ad2dbbc",
   "metadata": {},
   "outputs": [],
   "source": [
    "%%"
   ]
  },
  {
   "cell_type": "code",
   "execution_count": null,
   "id": "aff34d38-a27f-4b0d-9a50-6a507b6a1175",
   "metadata": {},
   "outputs": [],
   "source": []
  },
  {
   "cell_type": "code",
   "execution_count": 11,
   "id": "ca886b5c-fe28-4702-ac61-39a2f45fa219",
   "metadata": {},
   "outputs": [
    {
     "name": "stderr",
     "output_type": "stream",
     "text": [
      "UsageError: Line magic function `%%writefile` not found.\n"
     ]
    }
   ],
   "source": [
    "# py 뒤에 내용입력후 파일로 저장\n",
    "\n",
    "%%writefile add.py\n",
    "\n",
    "def add(x:int, y:int) -> int:\n",
    "    \"\"\"add()는 두 수를 더한 결과를 반환한다.\n",
    "    \n",
    "    \"\"\"\n",
    "    return x+y\n",
    "\n",
    "print(add(100, 20))"
   ]
  },
  {
   "cell_type": "code",
   "execution_count": 12,
   "id": "f96b14b7-eaf2-4e9d-8b41-e94651806c97",
   "metadata": {},
   "outputs": [
    {
     "name": "stdout",
     "output_type": "stream",
     "text": [
      " C 드라이브의 볼륨에는 이름이 없습니다.\n",
      " 볼륨 일련 번호: EE24-C8C3\n",
      "\n",
      " C:\\Users\\kys21\\pythondate 디렉터리\n",
      "\n"
     ]
    },
    {
     "name": "stderr",
     "output_type": "stream",
     "text": [
      "파일을 찾을 수 없습니다.\n"
     ]
    }
   ],
   "source": [
    "%ls add.py"
   ]
  },
  {
   "cell_type": "code",
   "execution_count": 13,
   "id": "9281e416-02fb-4066-b688-5fd6c1444813",
   "metadata": {},
   "outputs": [
    {
     "name": "stdout",
     "output_type": "stream",
     "text": [
      " C 드라이브의 볼륨에는 이름이 없습니다.\n",
      " 볼륨 일련 번호: EE24-C8C3\n",
      "\n",
      " C:\\Users\\kys21\\pythondate 디렉터리\n",
      "\n",
      "2023-03-16  오전 10:21    <DIR>          .\n",
      "2023-03-16  오전 10:21    <DIR>          ..\n",
      "2023-03-15  오후 05:27    <DIR>          .ipynb_checkpoints\n",
      "2023-03-15  오후 03:26             3,371 1-00개발환경.ipynb\n",
      "2023-03-16  오전 10:21            81,644 1-01JupyterNotebook.ipynb\n",
      "2023-03-15  오후 03:26         1,937,368 1-03Basic1_A.ipynb\n",
      "2023-03-15  오후 03:37            16,573 1-03Basic2.ipynb\n",
      "2023-03-15  오후 03:38           152,481 1-04Sequence_0.ipynb\n",
      "2023-03-15  오후 03:38            40,221 1-05Strings-Usages.ipynb\n",
      "2023-03-13  오후 10:54                72 Untitled.ipynb\n",
      "2023-03-15  오후 05:29                19 untitled.md\n",
      "               8개 파일           2,231,749 바이트\n",
      "               3개 디렉터리  105,895,837,696 바이트 남음\n"
     ]
    }
   ],
   "source": [
    "%ls"
   ]
  },
  {
   "cell_type": "code",
   "execution_count": 14,
   "id": "94b371ff-16c3-4a7a-b9d4-b422ea71690f",
   "metadata": {},
   "outputs": [
    {
     "name": "stdout",
     "output_type": "stream",
     "text": [
      "Error: no such file, variable, URL, history range or macro\n"
     ]
    }
   ],
   "source": [
    "%pycat add.py"
   ]
  },
  {
   "cell_type": "code",
   "execution_count": null,
   "id": "275c67a8-a712-4628-83e2-f5e0be45c288",
   "metadata": {},
   "outputs": [],
   "source": []
  },
  {
   "cell_type": "code",
   "execution_count": null,
   "id": "0238b659-66b9-4656-880a-0c42da33088b",
   "metadata": {},
   "outputs": [],
   "source": []
  },
  {
   "cell_type": "code",
   "execution_count": 8,
   "id": "0016a3f3-1dfc-4fc0-899d-9b0644b8d02c",
   "metadata": {},
   "outputs": [
    {
     "ename": "Exception",
     "evalue": "File `'add.py'` not found.",
     "output_type": "error",
     "traceback": [
      "\u001b[1;31m---------------------------------------------------------------------------\u001b[0m",
      "\u001b[1;31mOSError\u001b[0m                                   Traceback (most recent call last)",
      "\u001b[1;32mC:\\Anaconda3\\lib\\site-packages\\IPython\\core\\magics\\execution.py\u001b[0m in \u001b[0;36mrun\u001b[1;34m(self, parameter_s, runner, file_finder)\u001b[0m\n\u001b[0;32m    713\u001b[0m             \u001b[0mfpath\u001b[0m \u001b[1;33m=\u001b[0m \u001b[0marg_lst\u001b[0m\u001b[1;33m[\u001b[0m\u001b[1;36m0\u001b[0m\u001b[1;33m]\u001b[0m\u001b[1;33m\u001b[0m\u001b[1;33m\u001b[0m\u001b[0m\n\u001b[1;32m--> 714\u001b[1;33m             \u001b[0mfilename\u001b[0m \u001b[1;33m=\u001b[0m \u001b[0mfile_finder\u001b[0m\u001b[1;33m(\u001b[0m\u001b[0mfpath\u001b[0m\u001b[1;33m)\u001b[0m\u001b[1;33m\u001b[0m\u001b[1;33m\u001b[0m\u001b[0m\n\u001b[0m\u001b[0;32m    715\u001b[0m         \u001b[1;32mexcept\u001b[0m \u001b[0mIndexError\u001b[0m\u001b[1;33m:\u001b[0m\u001b[1;33m\u001b[0m\u001b[1;33m\u001b[0m\u001b[0m\n",
      "\u001b[1;32mC:\\Anaconda3\\lib\\site-packages\\IPython\\utils\\path.py\u001b[0m in \u001b[0;36mget_py_filename\u001b[1;34m(name, force_win32)\u001b[0m\n\u001b[0;32m    108\u001b[0m     \u001b[1;32melse\u001b[0m\u001b[1;33m:\u001b[0m\u001b[1;33m\u001b[0m\u001b[1;33m\u001b[0m\u001b[0m\n\u001b[1;32m--> 109\u001b[1;33m         \u001b[1;32mraise\u001b[0m \u001b[0mIOError\u001b[0m\u001b[1;33m(\u001b[0m\u001b[1;34m'File `%r` not found.'\u001b[0m \u001b[1;33m%\u001b[0m \u001b[0mname\u001b[0m\u001b[1;33m)\u001b[0m\u001b[1;33m\u001b[0m\u001b[1;33m\u001b[0m\u001b[0m\n\u001b[0m\u001b[0;32m    110\u001b[0m \u001b[1;33m\u001b[0m\u001b[0m\n",
      "\u001b[1;31mOSError\u001b[0m: File `'add.py'` not found.",
      "\nDuring handling of the above exception, another exception occurred:\n",
      "\u001b[1;31mException\u001b[0m                                 Traceback (most recent call last)",
      "\u001b[1;32m~\\AppData\\Local\\Temp\\ipykernel_33688\\2068410896.py\u001b[0m in \u001b[0;36m<module>\u001b[1;34m\u001b[0m\n\u001b[1;32m----> 1\u001b[1;33m \u001b[0mget_ipython\u001b[0m\u001b[1;33m(\u001b[0m\u001b[1;33m)\u001b[0m\u001b[1;33m.\u001b[0m\u001b[0mrun_line_magic\u001b[0m\u001b[1;33m(\u001b[0m\u001b[1;34m'run'\u001b[0m\u001b[1;33m,\u001b[0m \u001b[1;34m'add.py'\u001b[0m\u001b[1;33m)\u001b[0m\u001b[1;33m\u001b[0m\u001b[1;33m\u001b[0m\u001b[0m\n\u001b[0m",
      "\u001b[1;32mC:\\Anaconda3\\lib\\site-packages\\IPython\\core\\interactiveshell.py\u001b[0m in \u001b[0;36mrun_line_magic\u001b[1;34m(self, magic_name, line, _stack_depth)\u001b[0m\n\u001b[0;32m   2362\u001b[0m                 \u001b[0mkwargs\u001b[0m\u001b[1;33m[\u001b[0m\u001b[1;34m'local_ns'\u001b[0m\u001b[1;33m]\u001b[0m \u001b[1;33m=\u001b[0m \u001b[0mself\u001b[0m\u001b[1;33m.\u001b[0m\u001b[0mget_local_scope\u001b[0m\u001b[1;33m(\u001b[0m\u001b[0mstack_depth\u001b[0m\u001b[1;33m)\u001b[0m\u001b[1;33m\u001b[0m\u001b[1;33m\u001b[0m\u001b[0m\n\u001b[0;32m   2363\u001b[0m             \u001b[1;32mwith\u001b[0m \u001b[0mself\u001b[0m\u001b[1;33m.\u001b[0m\u001b[0mbuiltin_trap\u001b[0m\u001b[1;33m:\u001b[0m\u001b[1;33m\u001b[0m\u001b[1;33m\u001b[0m\u001b[0m\n\u001b[1;32m-> 2364\u001b[1;33m                 \u001b[0mresult\u001b[0m \u001b[1;33m=\u001b[0m \u001b[0mfn\u001b[0m\u001b[1;33m(\u001b[0m\u001b[1;33m*\u001b[0m\u001b[0margs\u001b[0m\u001b[1;33m,\u001b[0m \u001b[1;33m**\u001b[0m\u001b[0mkwargs\u001b[0m\u001b[1;33m)\u001b[0m\u001b[1;33m\u001b[0m\u001b[1;33m\u001b[0m\u001b[0m\n\u001b[0m\u001b[0;32m   2365\u001b[0m             \u001b[1;32mreturn\u001b[0m \u001b[0mresult\u001b[0m\u001b[1;33m\u001b[0m\u001b[1;33m\u001b[0m\u001b[0m\n\u001b[0;32m   2366\u001b[0m \u001b[1;33m\u001b[0m\u001b[0m\n",
      "\u001b[1;32mC:\\Anaconda3\\lib\\site-packages\\decorator.py\u001b[0m in \u001b[0;36mfun\u001b[1;34m(*args, **kw)\u001b[0m\n\u001b[0;32m    230\u001b[0m             \u001b[1;32mif\u001b[0m \u001b[1;32mnot\u001b[0m \u001b[0mkwsyntax\u001b[0m\u001b[1;33m:\u001b[0m\u001b[1;33m\u001b[0m\u001b[1;33m\u001b[0m\u001b[0m\n\u001b[0;32m    231\u001b[0m                 \u001b[0margs\u001b[0m\u001b[1;33m,\u001b[0m \u001b[0mkw\u001b[0m \u001b[1;33m=\u001b[0m \u001b[0mfix\u001b[0m\u001b[1;33m(\u001b[0m\u001b[0margs\u001b[0m\u001b[1;33m,\u001b[0m \u001b[0mkw\u001b[0m\u001b[1;33m,\u001b[0m \u001b[0msig\u001b[0m\u001b[1;33m)\u001b[0m\u001b[1;33m\u001b[0m\u001b[1;33m\u001b[0m\u001b[0m\n\u001b[1;32m--> 232\u001b[1;33m             \u001b[1;32mreturn\u001b[0m \u001b[0mcaller\u001b[0m\u001b[1;33m(\u001b[0m\u001b[0mfunc\u001b[0m\u001b[1;33m,\u001b[0m \u001b[1;33m*\u001b[0m\u001b[1;33m(\u001b[0m\u001b[0mextras\u001b[0m \u001b[1;33m+\u001b[0m \u001b[0margs\u001b[0m\u001b[1;33m)\u001b[0m\u001b[1;33m,\u001b[0m \u001b[1;33m**\u001b[0m\u001b[0mkw\u001b[0m\u001b[1;33m)\u001b[0m\u001b[1;33m\u001b[0m\u001b[1;33m\u001b[0m\u001b[0m\n\u001b[0m\u001b[0;32m    233\u001b[0m     \u001b[0mfun\u001b[0m\u001b[1;33m.\u001b[0m\u001b[0m__name__\u001b[0m \u001b[1;33m=\u001b[0m \u001b[0mfunc\u001b[0m\u001b[1;33m.\u001b[0m\u001b[0m__name__\u001b[0m\u001b[1;33m\u001b[0m\u001b[1;33m\u001b[0m\u001b[0m\n\u001b[0;32m    234\u001b[0m     \u001b[0mfun\u001b[0m\u001b[1;33m.\u001b[0m\u001b[0m__doc__\u001b[0m \u001b[1;33m=\u001b[0m \u001b[0mfunc\u001b[0m\u001b[1;33m.\u001b[0m\u001b[0m__doc__\u001b[0m\u001b[1;33m\u001b[0m\u001b[1;33m\u001b[0m\u001b[0m\n",
      "\u001b[1;32mC:\\Anaconda3\\lib\\site-packages\\IPython\\core\\magic.py\u001b[0m in \u001b[0;36m<lambda>\u001b[1;34m(f, *a, **k)\u001b[0m\n\u001b[0;32m    185\u001b[0m     \u001b[1;31m# but it's overkill for just that one bit of state.\u001b[0m\u001b[1;33m\u001b[0m\u001b[1;33m\u001b[0m\u001b[0m\n\u001b[0;32m    186\u001b[0m     \u001b[1;32mdef\u001b[0m \u001b[0mmagic_deco\u001b[0m\u001b[1;33m(\u001b[0m\u001b[0marg\u001b[0m\u001b[1;33m)\u001b[0m\u001b[1;33m:\u001b[0m\u001b[1;33m\u001b[0m\u001b[1;33m\u001b[0m\u001b[0m\n\u001b[1;32m--> 187\u001b[1;33m         \u001b[0mcall\u001b[0m \u001b[1;33m=\u001b[0m \u001b[1;32mlambda\u001b[0m \u001b[0mf\u001b[0m\u001b[1;33m,\u001b[0m \u001b[1;33m*\u001b[0m\u001b[0ma\u001b[0m\u001b[1;33m,\u001b[0m \u001b[1;33m**\u001b[0m\u001b[0mk\u001b[0m\u001b[1;33m:\u001b[0m \u001b[0mf\u001b[0m\u001b[1;33m(\u001b[0m\u001b[1;33m*\u001b[0m\u001b[0ma\u001b[0m\u001b[1;33m,\u001b[0m \u001b[1;33m**\u001b[0m\u001b[0mk\u001b[0m\u001b[1;33m)\u001b[0m\u001b[1;33m\u001b[0m\u001b[1;33m\u001b[0m\u001b[0m\n\u001b[0m\u001b[0;32m    188\u001b[0m \u001b[1;33m\u001b[0m\u001b[0m\n\u001b[0;32m    189\u001b[0m         \u001b[1;32mif\u001b[0m \u001b[0mcallable\u001b[0m\u001b[1;33m(\u001b[0m\u001b[0marg\u001b[0m\u001b[1;33m)\u001b[0m\u001b[1;33m:\u001b[0m\u001b[1;33m\u001b[0m\u001b[1;33m\u001b[0m\u001b[0m\n",
      "\u001b[1;32mC:\\Anaconda3\\lib\\site-packages\\IPython\\core\\magics\\execution.py\u001b[0m in \u001b[0;36mrun\u001b[1;34m(self, parameter_s, runner, file_finder)\u001b[0m\n\u001b[0;32m    723\u001b[0m             \u001b[1;32mif\u001b[0m \u001b[0mos\u001b[0m\u001b[1;33m.\u001b[0m\u001b[0mname\u001b[0m \u001b[1;33m==\u001b[0m \u001b[1;34m'nt'\u001b[0m \u001b[1;32mand\u001b[0m \u001b[0mre\u001b[0m\u001b[1;33m.\u001b[0m\u001b[0mmatch\u001b[0m\u001b[1;33m(\u001b[0m\u001b[1;34mr\"^'.*'$\"\u001b[0m\u001b[1;33m,\u001b[0m\u001b[0mfpath\u001b[0m\u001b[1;33m)\u001b[0m\u001b[1;33m:\u001b[0m\u001b[1;33m\u001b[0m\u001b[1;33m\u001b[0m\u001b[0m\n\u001b[0;32m    724\u001b[0m                 \u001b[0mwarn\u001b[0m\u001b[1;33m(\u001b[0m\u001b[1;34m'For Windows, use double quotes to wrap a filename: %run \"mypath\\\\myfile.py\"'\u001b[0m\u001b[1;33m)\u001b[0m\u001b[1;33m\u001b[0m\u001b[1;33m\u001b[0m\u001b[0m\n\u001b[1;32m--> 725\u001b[1;33m             \u001b[1;32mraise\u001b[0m \u001b[0mException\u001b[0m\u001b[1;33m(\u001b[0m\u001b[0mmsg\u001b[0m\u001b[1;33m)\u001b[0m\u001b[1;33m\u001b[0m\u001b[1;33m\u001b[0m\u001b[0m\n\u001b[0m\u001b[0;32m    726\u001b[0m         \u001b[1;32mexcept\u001b[0m \u001b[0mTypeError\u001b[0m\u001b[1;33m:\u001b[0m\u001b[1;33m\u001b[0m\u001b[1;33m\u001b[0m\u001b[0m\n\u001b[0;32m    727\u001b[0m             \u001b[1;32mif\u001b[0m \u001b[0mfpath\u001b[0m \u001b[1;32min\u001b[0m \u001b[0msys\u001b[0m\u001b[1;33m.\u001b[0m\u001b[0mmeta_path\u001b[0m\u001b[1;33m:\u001b[0m\u001b[1;33m\u001b[0m\u001b[1;33m\u001b[0m\u001b[0m\n",
      "\u001b[1;31mException\u001b[0m: File `'add.py'` not found."
     ]
    }
   ],
   "source": [
    "%run add.py"
   ]
  },
  {
   "cell_type": "code",
   "execution_count": 29,
   "id": "7741b8ec-10a4-4edc-ac67-396cf0265b27",
   "metadata": {},
   "outputs": [
    {
     "name": "stderr",
     "output_type": "stream",
     "text": [
      "python: can't open file 'C:\\\\Users\\\\kys21\\\\pythondate\\\\add.py': [Errno 2] No such file or directory\n"
     ]
    }
   ],
   "source": [
    "! python add.py"
   ]
  },
  {
   "cell_type": "code",
   "execution_count": null,
   "id": "d8ca5f15-d6ac-4727-b94c-d5c0169e7098",
   "metadata": {},
   "outputs": [],
   "source": []
  },
  {
   "cell_type": "markdown",
   "id": "4b08e3c0-0e84-4908-ae20-5b6e14e28a00",
   "metadata": {},
   "source": [
    "디렉토리\n",
    "\n",
    "folder / directory : 파일을 담아두는 공간"
   ]
  },
  {
   "cell_type": "code",
   "execution_count": 15,
   "id": "b87d642c-19fe-4bac-8152-8a08855cc468",
   "metadata": {},
   "outputs": [
    {
     "data": {
      "text/plain": [
       "'C:\\\\Users\\\\kys21\\\\pythondate'"
      ]
     },
     "execution_count": 15,
     "metadata": {},
     "output_type": "execute_result"
    }
   ],
   "source": [
    "%pwd"
   ]
  },
  {
   "cell_type": "markdown",
   "id": "2ef48a37-9783-4d7f-a95e-a130dd2be828",
   "metadata": {},
   "source": [
    "디렉토리 이동\n",
    "\n",
    "- '.' :(현재 디렉토리)\n",
    "- '..' :(이전 디렉토리)"
   ]
  },
  {
   "cell_type": "code",
   "execution_count": 16,
   "id": "b26f7e29-a400-494f-9876-5d81deb61150",
   "metadata": {},
   "outputs": [
    {
     "name": "stdout",
     "output_type": "stream",
     "text": [
      " C 드라이브의 볼륨에는 이름이 없습니다.\n",
      " 볼륨 일련 번호: EE24-C8C3\n",
      "\n",
      " C:\\Users\\kys21\\pythondate 디렉터리\n",
      "\n",
      "2023-03-16  오전 10:33    <DIR>          .\n",
      "2023-03-16  오전 10:33    <DIR>          ..\n",
      "2023-03-15  오후 05:27    <DIR>          .ipynb_checkpoints\n",
      "2023-03-15  오후 03:26             3,371 1-00개발환경.ipynb\n",
      "2023-03-16  오전 10:33            82,729 1-01JupyterNotebook.ipynb\n",
      "2023-03-15  오후 03:26         1,937,368 1-03Basic1_A.ipynb\n",
      "2023-03-15  오후 03:37            16,573 1-03Basic2.ipynb\n",
      "2023-03-15  오후 03:38           152,481 1-04Sequence_0.ipynb\n",
      "2023-03-15  오후 03:38            40,221 1-05Strings-Usages.ipynb\n",
      "2023-03-13  오후 10:54                72 Untitled.ipynb\n",
      "2023-03-15  오후 05:29                19 untitled.md\n",
      "               8개 파일           2,232,834 바이트\n",
      "               3개 디렉터리  105,897,340,928 바이트 남음\n"
     ]
    }
   ],
   "source": [
    "%ls"
   ]
  },
  {
   "cell_type": "code",
   "execution_count": null,
   "id": "de0a6491-fad5-4cf8-9015-aa95e6272821",
   "metadata": {},
   "outputs": [],
   "source": []
  },
  {
   "cell_type": "code",
   "execution_count": 17,
   "id": "33375361-25f7-4831-ae4a-4dc66231196b",
   "metadata": {},
   "outputs": [],
   "source": [
    "%mkdir test"
   ]
  },
  {
   "cell_type": "code",
   "execution_count": 18,
   "id": "b1cd4615-a3f4-48d3-b20c-9cd64c7e1739",
   "metadata": {},
   "outputs": [
    {
     "name": "stdout",
     "output_type": "stream",
     "text": [
      " C 드라이브의 볼륨에는 이름이 없습니다.\n",
      " 볼륨 일련 번호: EE24-C8C3\n",
      "\n",
      " C:\\Users\\kys21\\pythondate\\test 디렉터리\n",
      "\n",
      "2023-03-16  오전 10:37    <DIR>          .\n",
      "2023-03-16  오전 10:37    <DIR>          ..\n",
      "               0개 파일                   0 바이트\n",
      "               2개 디렉터리  105,897,041,920 바이트 남음\n"
     ]
    }
   ],
   "source": [
    "%ls test"
   ]
  },
  {
   "cell_type": "code",
   "execution_count": 19,
   "id": "10baf470-7e71-440e-9e71-5836b9dbdba2",
   "metadata": {},
   "outputs": [],
   "source": [
    "%rmdir test"
   ]
  },
  {
   "cell_type": "code",
   "execution_count": null,
   "id": "302ef646-b9c3-4681-b78e-88678a02df92",
   "metadata": {},
   "outputs": [],
   "source": []
  },
  {
   "cell_type": "code",
   "execution_count": null,
   "id": "bdd5a1dd-1866-4c2d-b37b-722ea1f8c677",
   "metadata": {},
   "outputs": [],
   "source": [
    "!mkdir test2"
   ]
  },
  {
   "cell_type": "code",
   "execution_count": null,
   "id": "6e8a548e-cf44-46b4-9ad8-b0276975c828",
   "metadata": {},
   "outputs": [],
   "source": [
    "!mv test2 test3"
   ]
  },
  {
   "cell_type": "code",
   "execution_count": null,
   "id": "720d19b9-b91b-4d2e-b3da-db1feb6d3990",
   "metadata": {},
   "outputs": [],
   "source": [
    "%mv test2 test3"
   ]
  },
  {
   "cell_type": "code",
   "execution_count": null,
   "id": "4c84edca-3eb2-4ce1-b8a4-269c2510ea5c",
   "metadata": {},
   "outputs": [],
   "source": [
    "%history"
   ]
  },
  {
   "cell_type": "code",
   "execution_count": 20,
   "id": "f31ea79f-0157-45d9-b7a8-d4773c34a498",
   "metadata": {},
   "outputs": [
    {
     "name": "stdin",
     "output_type": "stream",
     "text": [
      "Once deleted, variables cannot be recovered. Proceed (y/[n])?  y\n"
     ]
    }
   ],
   "source": [
    "%reset"
   ]
  },
  {
   "cell_type": "code",
   "execution_count": 21,
   "id": "b596ad9d-79bd-47e8-b94c-a64f140aa954",
   "metadata": {},
   "outputs": [
    {
     "name": "stdout",
     "output_type": "stream",
     "text": [
      "Interactive namespace is empty.\n"
     ]
    }
   ],
   "source": [
    "%whos"
   ]
  },
  {
   "cell_type": "code",
   "execution_count": null,
   "id": "d9af25ad-3a58-47c4-ba93-5cbabc5ac4a4",
   "metadata": {},
   "outputs": [],
   "source": []
  },
  {
   "cell_type": "markdown",
   "id": "60f8e7b7-ac13-4083-8c46-38441873809f",
   "metadata": {},
   "source": [
    "### ex) 외부명령 실행 결과 저장하는 방법 찾아보세요!!!"
   ]
  },
  {
   "cell_type": "code",
   "execution_count": null,
   "id": "194ba128-6688-4743-bfd3-c08fc17cb7a8",
   "metadata": {},
   "outputs": [],
   "source": []
  },
  {
   "cell_type": "code",
   "execution_count": null,
   "id": "38611fdf-369c-4dc7-8b7c-1df57fdc3271",
   "metadata": {},
   "outputs": [],
   "source": []
  },
  {
   "cell_type": "code",
   "execution_count": null,
   "id": "04616778-ab35-4451-8ea0-bf7d90e50645",
   "metadata": {},
   "outputs": [],
   "source": []
  },
  {
   "cell_type": "markdown",
   "id": "3ba71c6d-c85c-4e38-9d74-f76dbcea5969",
   "metadata": {},
   "source": [
    "## 수행시간 프로파일링\n",
    "\n",
    " - `%time`: 코드를 한번 수행되는 시간\n",
    " - `%timeit` , `%%timeit`: 코드를 여러번 수행해 평균을 측정"
   ]
  },
  {
   "cell_type": "code",
   "execution_count": null,
   "id": "0a164e4e-4d77-48c5-9f15-416aaf692682",
   "metadata": {},
   "outputs": [],
   "source": [
    "import time\n",
    "\n",
    "# - 시간측정 -> 시작시간\n",
    "\n",
    "# 시작\n",
    "# ...\n",
    "\n",
    "\n",
    "# 실행\n",
    "# ...\n",
    "\n",
    "\n",
    "# 종료\n",
    "# -시간측정 -> 종료시간\n",
    "# 종료시간 - 시작시간 = 사용시간 \n"
   ]
  },
  {
   "cell_type": "code",
   "execution_count": null,
   "id": "8de43acb-f789-478c-b633-522a583f42fc",
   "metadata": {},
   "outputs": [],
   "source": []
  },
  {
   "cell_type": "code",
   "execution_count": null,
   "id": "e35124d1-75bf-448c-b417-96d9e3bb2106",
   "metadata": {},
   "outputs": [],
   "source": []
  },
  {
   "cell_type": "code",
   "execution_count": null,
   "id": "32c1a7f3-0ac5-432d-b60b-1d7332ee9c30",
   "metadata": {},
   "outputs": [],
   "source": []
  },
  {
   "cell_type": "markdown",
   "id": "4493e420-7a46-4a15-bee1-df7658b58b03",
   "metadata": {},
   "source": [
    "### `%time` 과 `%%time`\n",
    "\n",
    "코드가 한번 실행하는 수행시간을 측정\n",
    "\n",
    "- wall time: 시작 -cpu time - 종료/출력"
   ]
  },
  {
   "cell_type": "code",
   "execution_count": null,
   "id": "6073cb5b-586f-4d11-9af9-0b98a7b72202",
   "metadata": {},
   "outputs": [],
   "source": []
  },
  {
   "cell_type": "code",
   "execution_count": 22,
   "id": "3921dfe0-f4df-44a7-9036-75abd7e6e09c",
   "metadata": {},
   "outputs": [
    {
     "name": "stdout",
     "output_type": "stream",
     "text": [
      "Wall time: 0 ns\n"
     ]
    },
    {
     "data": {
      "text/plain": [
       "340282366920938463463374607431768211456"
      ]
     },
     "execution_count": 22,
     "metadata": {},
     "output_type": "execute_result"
    }
   ],
   "source": [
    "%time 2**128"
   ]
  },
  {
   "cell_type": "code",
   "execution_count": null,
   "id": "5aaf1ea1-0dde-4a38-9265-2c27006bb74b",
   "metadata": {},
   "outputs": [],
   "source": []
  },
  {
   "cell_type": "code",
   "execution_count": null,
   "id": "3bf8b699-b308-4bbc-8b8f-6df2d526be6b",
   "metadata": {},
   "outputs": [],
   "source": []
  },
  {
   "cell_type": "code",
   "execution_count": 24,
   "id": "27ee0ea6-5753-4a02-b1fd-cf824c5f1794",
   "metadata": {},
   "outputs": [],
   "source": [
    "from collections import deque"
   ]
  },
  {
   "cell_type": "code",
   "execution_count": 25,
   "id": "346caefe-c556-403a-87d0-729660eeb873",
   "metadata": {
    "collapsed": true,
    "jupyter": {
     "outputs_hidden": true
    },
    "tags": []
   },
   "outputs": [
    {
     "name": "stdout",
     "output_type": "stream",
     "text": [
      "Wall time: 999 µs\n"
     ]
    },
    {
     "data": {
      "text/plain": [
       "deque([0,\n",
       "       1,\n",
       "       2,\n",
       "       3,\n",
       "       4,\n",
       "       5,\n",
       "       6,\n",
       "       7,\n",
       "       8,\n",
       "       9,\n",
       "       10,\n",
       "       11,\n",
       "       12,\n",
       "       13,\n",
       "       14,\n",
       "       15,\n",
       "       16,\n",
       "       17,\n",
       "       18,\n",
       "       19,\n",
       "       20,\n",
       "       21,\n",
       "       22,\n",
       "       23,\n",
       "       24,\n",
       "       25,\n",
       "       26,\n",
       "       27,\n",
       "       28,\n",
       "       29,\n",
       "       30,\n",
       "       31,\n",
       "       32,\n",
       "       33,\n",
       "       34,\n",
       "       35,\n",
       "       36,\n",
       "       37,\n",
       "       38,\n",
       "       39,\n",
       "       40,\n",
       "       41,\n",
       "       42,\n",
       "       43,\n",
       "       44,\n",
       "       45,\n",
       "       46,\n",
       "       47,\n",
       "       48,\n",
       "       49,\n",
       "       50,\n",
       "       51,\n",
       "       52,\n",
       "       53,\n",
       "       54,\n",
       "       55,\n",
       "       56,\n",
       "       57,\n",
       "       58,\n",
       "       59,\n",
       "       60,\n",
       "       61,\n",
       "       62,\n",
       "       63,\n",
       "       64,\n",
       "       65,\n",
       "       66,\n",
       "       67,\n",
       "       68,\n",
       "       69,\n",
       "       70,\n",
       "       71,\n",
       "       72,\n",
       "       73,\n",
       "       74,\n",
       "       75,\n",
       "       76,\n",
       "       77,\n",
       "       78,\n",
       "       79,\n",
       "       80,\n",
       "       81,\n",
       "       82,\n",
       "       83,\n",
       "       84,\n",
       "       85,\n",
       "       86,\n",
       "       87,\n",
       "       88,\n",
       "       89,\n",
       "       90,\n",
       "       91,\n",
       "       92,\n",
       "       93,\n",
       "       94,\n",
       "       95,\n",
       "       96,\n",
       "       97,\n",
       "       98,\n",
       "       99])"
      ]
     },
     "execution_count": 25,
     "metadata": {},
     "output_type": "execute_result"
    }
   ],
   "source": [
    "%time deque([i for i in range(100)])"
   ]
  },
  {
   "cell_type": "code",
   "execution_count": null,
   "id": "28621aba-c4c9-4abf-abd1-28c60843835f",
   "metadata": {},
   "outputs": [],
   "source": []
  },
  {
   "cell_type": "code",
   "execution_count": null,
   "id": "d39acd76-7ee4-4a07-91dc-06438d1d768b",
   "metadata": {},
   "outputs": [],
   "source": [
    "%time sum(range(100))"
   ]
  },
  {
   "cell_type": "code",
   "execution_count": 26,
   "id": "afc05683-411d-4ece-b47c-7f966f8df652",
   "metadata": {},
   "outputs": [
    {
     "name": "stdout",
     "output_type": "stream",
     "text": [
      "Wall time: 0 ns\n"
     ]
    },
    {
     "data": {
      "text/plain": [
       "499500"
      ]
     },
     "execution_count": 26,
     "metadata": {},
     "output_type": "execute_result"
    }
   ],
   "source": [
    "%%time\n",
    "sum(range(100))\n",
    "sum(range(1000))"
   ]
  },
  {
   "cell_type": "markdown",
   "id": "1cca44cb-d022-415d-b1fe-dd13ebca0603",
   "metadata": {},
   "source": [
    "### `%timeit` 과 `%%timeit`\n",
    "\n",
    "코드를 여러번 수행한 평균 시간을 측정"
   ]
  },
  {
   "cell_type": "code",
   "execution_count": 29,
   "id": "c998e7fb-310b-41fe-95bc-dcfbea110bf8",
   "metadata": {},
   "outputs": [
    {
     "name": "stdout",
     "output_type": "stream",
     "text": [
      "12.9 µs ± 218 ns per loop (mean ± std. dev. of 7 runs, 100000 loops each)\n"
     ]
    }
   ],
   "source": [
    "%%timeit\n",
    "sum(range(100))\n",
    "sum(range(1000))\n",
    "\n",
    "# 십만번을 7번 실행 후 평균 낸 값 "
   ]
  },
  {
   "cell_type": "code",
   "execution_count": null,
   "id": "9ebc1cdd-327f-407c-b503-36ab7e76c680",
   "metadata": {},
   "outputs": [],
   "source": []
  },
  {
   "cell_type": "code",
   "execution_count": 30,
   "id": "efb2ad7f-4f1c-4145-90e5-b9d0bde664f6",
   "metadata": {},
   "outputs": [],
   "source": [
    "import numpy as np"
   ]
  },
  {
   "cell_type": "code",
   "execution_count": 31,
   "id": "84b3f556-638f-4f7b-bffb-dbedd5f54c3e",
   "metadata": {},
   "outputs": [
    {
     "name": "stdout",
     "output_type": "stream",
     "text": [
      "4.16 µs ± 186 ns per loop (mean ± std. dev. of 7 runs, 100000 loops each)\n"
     ]
    }
   ],
   "source": [
    "%timeit np.sum(1000)"
   ]
  },
  {
   "cell_type": "code",
   "execution_count": null,
   "id": "aefa0c28-ad73-4489-977d-b967d965a778",
   "metadata": {},
   "outputs": [],
   "source": []
  },
  {
   "cell_type": "code",
   "execution_count": null,
   "id": "849e8e63-323b-4a04-bb5a-d365f112cb8f",
   "metadata": {},
   "outputs": [],
   "source": [
    "%%timeit"
   ]
  },
  {
   "cell_type": "code",
   "execution_count": null,
   "id": "b5b143e2-5823-4fe7-830e-6ad7eaed2faf",
   "metadata": {},
   "outputs": [],
   "source": [
    "%timeit deque([i for i in range(100)])\n",
    "%timeit deque([i for i in range(10000)])\n",
    "%timeit deque([i for i in range(1000000)])\n",
    "%timeit deque([i for i in range(100000000)])"
   ]
  },
  {
   "cell_type": "code",
   "execution_count": null,
   "id": "8b69a831-c397-4e82-96ce-130677378398",
   "metadata": {},
   "outputs": [],
   "source": [
    "%timeit deque(i for i in range(100))\n",
    "%timeit deque(i for i in range(10000))\n",
    "%timeit deque(i for i in range(1000000))\n",
    "%timeit deque(i for i in range(100000000))"
   ]
  },
  {
   "cell_type": "code",
   "execution_count": null,
   "id": "25922ccd-3417-49ec-a71a-1865855525f3",
   "metadata": {},
   "outputs": [],
   "source": [
    "%timeit deque(range(100))\n",
    "%timeit deque(range(10000))\n",
    "%timeit deque(range(1000000))\n",
    "%timeit deque(range(100000000))"
   ]
  },
  {
   "cell_type": "code",
   "execution_count": null,
   "id": "cc4c4c03-c0c4-45e0-9617-6453c736e08d",
   "metadata": {},
   "outputs": [],
   "source": [
    "%timeit [i for i in range(100)]\n",
    "%timeit [i for i in range(10000)]\n",
    "%timeit [i for i in range(1000000)]\n",
    "%timeit [i for i in range(100000000)]"
   ]
  },
  {
   "cell_type": "code",
   "execution_count": null,
   "id": "67681ea2-6e8b-4e73-8335-4cd282c4f601",
   "metadata": {},
   "outputs": [],
   "source": [
    "%timeit list(range(100))\n",
    "%timeit list(range(10000))\n",
    "%timeit list(range(1000000))\n",
    "%timeit list(range(100000000))"
   ]
  },
  {
   "cell_type": "code",
   "execution_count": 32,
   "id": "a77e3437-693a-44fa-a373-0e709ff30379",
   "metadata": {},
   "outputs": [
    {
     "name": "stdout",
     "output_type": "stream",
     "text": [
      "2.51 s ± 77.3 ms per loop (mean ± std. dev. of 7 runs, 1 loop each)\n"
     ]
    }
   ],
   "source": [
    "%%timeit\n",
    "\n",
    "list(range(100))\n",
    "list(range(10000))\n",
    "list(range(1000000))\n",
    "list(range(100000000))"
   ]
  },
  {
   "cell_type": "markdown",
   "id": "27857e4a-3b23-4ecb-b31d-2561c7e2ec4c",
   "metadata": {
    "jupyter": {
     "source_hidden": true
    },
    "tags": []
   },
   "source": [
    "### `%timeit` 의 옵션\n",
    "\n",
    "- `-n` : 한 루프당 몇 번 실행할 것인지 지정한다. 지정하지 않으면 알아서 적당히 충분히 정확한 데이터가 나올 정도로 실행함\n",
    "- `-r` : %timeit은 여러번 반복해서 그 평균값과 오차범위를 보여주는데, 몇 번 반복할 것인지를 지정할 수 있다.  기본값으로 7번 반복."
   ]
  },
  {
   "cell_type": "code",
   "execution_count": 33,
   "id": "41a66fab-d351-4435-b92e-55efc7798cd1",
   "metadata": {},
   "outputs": [
    {
     "name": "stdout",
     "output_type": "stream",
     "text": [
      "2.51 s ± 27.2 ms per loop (mean ± std. dev. of 3 runs, 3 loops each)\n"
     ]
    }
   ],
   "source": [
    "%%timeit -n 3 -r 3\n",
    "\n",
    "#  3(loops) * 3(runs)로 총 9번 실행이 된다\n",
    "\n",
    "\n",
    "list(range(100))\n",
    "list(range(10000))\n",
    "list(range(1000000))\n",
    "list(range(100000000))"
   ]
  },
  {
   "cell_type": "code",
   "execution_count": null,
   "id": "fa6624b8-8139-4959-abe1-fda8884cec0a",
   "metadata": {},
   "outputs": [],
   "source": [
    "%timeit -n 3 -r 3 sum(range(1000))"
   ]
  },
  {
   "cell_type": "code",
   "execution_count": null,
   "id": "de90d0e0-b208-44f5-99f4-32eb5cba6ae8",
   "metadata": {},
   "outputs": [],
   "source": [
    "%timeit -n 1 -r 3 sum(range(1000))"
   ]
  },
  {
   "cell_type": "markdown",
   "id": "99221f36-8731-42e2-bb1f-e3c3db1ada47",
   "metadata": {},
   "source": [
    " - `-t` : 시간계산에 time.time 모듈을 사용하게 된다. Unix 시스템에서 디폴트값이다\n",
    " - `-c` : 시간계산에 time.clock 모듈을 사용하게 된다. Windows 시스템에서 디폴트값이다. Unix시스템에서 이 옵션을 주면 Wall time(사람이 인지할 수 있는 시간) 대신 CPU time으로 계산된다\n",
    " - `-p` : 소숫점 몇자리까지 표시되는지 설정할 수 있다. 디폴트값은 3이다\n",
    " - `-q` : Quiet, 즉 결과값이 출력되지 않는다\n",
    " - `-o` : 결과를 TimeitResult객체로 반환한다"
   ]
  },
  {
   "cell_type": "code",
   "execution_count": null,
   "id": "d51e882b-21b3-4974-a244-692e559d6a8b",
   "metadata": {},
   "outputs": [],
   "source": []
  },
  {
   "cell_type": "markdown",
   "id": "9b15688f-f8d9-4980-8a09-f97364872687",
   "metadata": {},
   "source": [
    "# Markdown 사용\n",
    "\n",
    "https://guides.github.com/features/mastering-markdown/"
   ]
  },
  {
   "cell_type": "markdown",
   "id": "9e060e02-9ed3-481e-ab2c-4b39e290d04c",
   "metadata": {},
   "source": [
    "## 헤딩\n",
    "\n",
    "`#` 으로 `<h>` 태그 표현\n",
    "\n",
    "\n",
    "\n",
    "```html\n",
    "<h1></h1>\n",
    "<h2></h2>\n",
    "<h3></h3>\n",
    "<h4></h4>\n",
    "<h5></h5>\n",
    "```\n"
   ]
  },
  {
   "cell_type": "markdown",
   "id": "d6017a4e-33d7-4ea0-908f-e04bf01a4092",
   "metadata": {},
   "source": [
    "<h1>안녕!</h1>\n",
    "<h2>하세요~?</h2>"
   ]
  },
  {
   "cell_type": "markdown",
   "id": "de544374-ee83-47cc-a894-9fa4224276be",
   "metadata": {},
   "source": [
    "# 안녕~~~?\n",
    "## 안녕~~~?\n"
   ]
  },
  {
   "cell_type": "code",
   "execution_count": null,
   "id": "f634ae78-623e-4ac5-9b1d-cd32f752d5ab",
   "metadata": {},
   "outputs": [],
   "source": []
  },
  {
   "cell_type": "code",
   "execution_count": null,
   "id": "6d0f964d-a7c1-49c1-b780-83e35ec8c195",
   "metadata": {},
   "outputs": [],
   "source": []
  },
  {
   "cell_type": "markdown",
   "id": "61b9cc23-3cc6-433d-9dee-0e9d3d19f858",
   "metadata": {},
   "source": [
    "## 텍스트 스타일\n",
    "\n",
    "```\n",
    "*안녕하세요*\n",
    "\n",
    "_안녕하세요_\n",
    "\n",
    "\n",
    "**안녕하세요**\n",
    "\n",
    "__안녕하세요__\n",
    "\n",
    "안녕하세요. **IoT** **_과정_** 여러분 ***반갑***습니다.\n",
    "```\n",
    "\n",
    "\n"
   ]
  },
  {
   "cell_type": "markdown",
   "id": "428bf4b7-f473-43cb-a3c6-cc14b73565e5",
   "metadata": {},
   "source": [
    "*안녕하세요*\n",
    "\n",
    "_안녕하세요_\n",
    "\n",
    "--------------\n",
    "\n",
    "**안녕하세요**\n",
    "\n",
    "__안녕하세요__\n"
   ]
  },
  {
   "cell_type": "code",
   "execution_count": null,
   "id": "74b1fb01-d072-4470-9039-85a9350a8700",
   "metadata": {},
   "outputs": [],
   "source": []
  },
  {
   "cell_type": "code",
   "execution_count": null,
   "id": "c87534c8-4994-497c-9885-a91ff5e03a8b",
   "metadata": {},
   "outputs": [],
   "source": []
  },
  {
   "cell_type": "markdown",
   "id": "74aa4580-325e-496f-9358-9bf11c4e1471",
   "metadata": {},
   "source": [
    "## 인용\n",
    "\n",
    "```\n",
    "> 인용은 해당 문서 내용중 외부에서 얻은 자료...\n",
    "자료....\n",
    "\n",
    ">인용은 해당 문서 내용중 외부에서\n",
    "> ```java\n",
    "> public class java {\n",
    "> \n",
    "> }\n",
    "> ```\n",
    "```"
   ]
  },
  {
   "cell_type": "code",
   "execution_count": 35,
   "id": "2af58a4b-5410-4970-b44c-2d97701a3ad0",
   "metadata": {},
   "outputs": [],
   "source": [
    "# 마크다운에서 줄바꿈 <br>\n",
    "# "
   ]
  },
  {
   "cell_type": "code",
   "execution_count": null,
   "id": "fbb76f48-8027-4fd1-97f9-cf27e841e505",
   "metadata": {},
   "outputs": [],
   "source": []
  },
  {
   "cell_type": "code",
   "execution_count": null,
   "id": "ef36cd5e-d2cc-4ec9-874c-f3784a616e09",
   "metadata": {},
   "outputs": [],
   "source": []
  },
  {
   "cell_type": "markdown",
   "id": "9b0aeaa6-6ca4-4f34-892c-a2269b686d8a",
   "metadata": {},
   "source": [
    "## 코드\n",
    "\n",
    "```\n",
    "def foo():\n",
    "    if not bar:\n",
    "        return True\n",
    "```\n"
   ]
  },
  {
   "cell_type": "markdown",
   "id": "a98deb26-3309-402f-9f81-0450b9250468",
   "metadata": {},
   "source": [
    "```\n",
    "\n",
    "코드불럭\n",
    "\n",
    "```"
   ]
  },
  {
   "cell_type": "markdown",
   "id": "23bc71dc-91b2-4ce5-a05f-534e4a182ee0",
   "metadata": {},
   "source": [
    "## Syntax highlighting\n",
    "\n",
    "\n",
    "```python\n",
    "def foo():\n",
    "    if not bar:\n",
    "        return True\n",
    "```"
   ]
  },
  {
   "cell_type": "markdown",
   "id": "c0745468-8526-46b8-bf6d-0d7763bbcec9",
   "metadata": {},
   "source": [
    "* 칼라풀하게!"
   ]
  },
  {
   "cell_type": "markdown",
   "id": "33f8a76d-a8ac-467b-9c45-d0906753b8f1",
   "metadata": {},
   "source": [
    "## 링크\n",
    "\n",
    "```\n",
    "[서브1](./sub1.md)\n",
    "\n",
    "[서브1](sub1.md)\n",
    "\n",
    "[서브1](/day2/sub1.md)\n",
    "\n",
    "[깃헙](https://guides.github.com/features/mastering-markdown/)\n",
    "```\n",
    "\n",
    "a link\n",
    "\n",
    "```\n",
    "<a href=\"./sub1.md\">a link 서브1</a>\n",
    "```\n"
   ]
  },
  {
   "cell_type": "markdown",
   "id": "b3fe2b08-1ef0-474e-984c-9b9cee7b0256",
   "metadata": {},
   "source": [
    "./ 현재 디렉토리"
   ]
  },
  {
   "cell_type": "markdown",
   "id": "2be52248-76b2-434f-bbf9-bede7ae4e24b",
   "metadata": {},
   "source": [
    "[서브1](./sub1.md)\n",
    "\n",
    "[서브1](sub1.md)\n",
    "\n",
    "[서브1](/day2/sub1.md)\n",
    "\n",
    "[깃헙](https://guides.github.com/features/mastering-markdown/)\n",
    "```\n",
    "\n",
    "a link\n",
    "\n",
    "<a href=\"./sub1.md\">a link 서브1</a>\n"
   ]
  },
  {
   "cell_type": "markdown",
   "id": "d9ea8e5c-df3c-4409-a374-34043633ab3a",
   "metadata": {},
   "source": [
    "## 이미지\n",
    "\n",
    "```\n",
    "![](https://octodex.github.com/images/yaktocat.png)\n",
    "\n",
    "<img src='https://octodex.github.com/images/yaktocat.png' width=200>\n",
    "```\n"
   ]
  },
  {
   "cell_type": "code",
   "execution_count": null,
   "id": "aa4c6196-8857-4523-9691-36c8c415aa82",
   "metadata": {},
   "outputs": [],
   "source": []
  },
  {
   "cell_type": "code",
   "execution_count": null,
   "id": "1f247149-ad90-4eda-a9da-9ffa88d6a024",
   "metadata": {},
   "outputs": [],
   "source": []
  },
  {
   "cell_type": "code",
   "execution_count": null,
   "id": "eb390cd9-0d66-433f-8305-792914c5b33e",
   "metadata": {},
   "outputs": [],
   "source": []
  },
  {
   "cell_type": "code",
   "execution_count": null,
   "id": "58119256-2c0d-4ce2-8276-da7f282a8c38",
   "metadata": {},
   "outputs": [],
   "source": []
  },
  {
   "cell_type": "code",
   "execution_count": null,
   "id": "456383b0-edf9-4df8-a21e-dd020b957594",
   "metadata": {},
   "outputs": [],
   "source": []
  },
  {
   "cell_type": "markdown",
   "id": "23a9f9da-436c-4562-bc70-55da5302eab2",
   "metadata": {},
   "source": [
    "raw 이미지(마크다운 raw 포맷)"
   ]
  },
  {
   "attachments": {
    "aa773a6d-4d42-46c0-8058-23abfbafea5f.png": {
     "image/png": "[encoded data removed]"
    }
   },
   "cell_type": "markdown",
   "id": "e562d885-9862-4870-ba2b-9d7cd0db05b3",
   "metadata": {},
   "source": [
    "![image.png](attachment:aa773a6d-4d42-46c0-8058-23abfbafea5f.png)"
   ]
  },
  {
   "cell_type": "code",
   "execution_count": null,
   "id": "258bc244-bbb5-4702-b004-692fa5efe0dc",
   "metadata": {},
   "outputs": [],
   "source": []
  },
  {
   "attachments": {
    "aa773a6d-4d42-46c0-8058-23abfbafea5f.png": {
     "image/png": "[encoded data removed]"
    }
   },
   "cell_type": "markdown",
   "id": "427cef0d-f66e-4f0f-bb8b-6803db21baa5",
   "metadata": {},
   "source": [
    "- 크기조정때문에 img 사용\n",
    "\n",
    "<img src = 'attachment:aa773a6d-4d42-46c0-8058-23abfbafea5f.png', width=100>"
   ]
  },
  {
   "cell_type": "code",
   "execution_count": null,
   "id": "260d483d-a11f-48fb-ab87-e06ce8800480",
   "metadata": {},
   "outputs": [],
   "source": []
  },
  {
   "attachments": {
    "aa773a6d-4d42-46c0-8058-23abfbafea5f.png": {
     "image/png": "[encoded data removed]"
    }
   },
   "cell_type": "markdown",
   "id": "dfa0e812-10a8-454e-9e4c-e31be4ffaa35",
   "metadata": {},
   "source": [
    "![image.png](attachment:aa773a6d-4d42-46c0-8058-23abfbafea5f.png)"
   ]
  },
  {
   "cell_type": "code",
   "execution_count": null,
   "id": "2662b115-1a82-4b86-a198-85dac84f5e59",
   "metadata": {},
   "outputs": [],
   "source": []
  },
  {
   "cell_type": "markdown",
   "id": "77c42b29-ab76-40a3-a55b-91b3218332a9",
   "metadata": {},
   "source": [
    "- imgur 사이트에서 이미지를 업로드 하고 이미지 주소복사 후 img src로 사용한다."
   ]
  },
  {
   "cell_type": "code",
   "execution_count": null,
   "id": "8366e31b-7a5e-4ea8-9f1e-ab770075618e",
   "metadata": {},
   "outputs": [],
   "source": []
  },
  {
   "cell_type": "code",
   "execution_count": null,
   "id": "99ee16e5-2bdf-4758-adfc-7348ee61ad8f",
   "metadata": {},
   "outputs": [],
   "source": []
  },
  {
   "cell_type": "markdown",
   "id": "bd4aa348-916e-4c18-9bd9-9ee2c74a3456",
   "metadata": {},
   "source": [
    "## 리스트\n",
    "\n",
    "HTML 리스트\n",
    "\n",
    "```\n",
    "<ul>\n",
    " <li>하나\n",
    " <li>둘\n",
    "</ul>\n",
    "\n",
    "<ol>\n",
    " <li>하나\n",
    " <li>둘\n",
    "</ol>\n",
    "```"
   ]
  },
  {
   "cell_type": "markdown",
   "id": "d3efa3ec-faf0-4210-9076-fa702359830e",
   "metadata": {},
   "source": [
    "<ul>\n",
    " <li>하나\n",
    " <li>둘\n",
    "</ul>\n",
    "\n",
    "<ol>\n",
    " <li>하나\n",
    " <li>둘\n",
    "</ol>"
   ]
  },
  {
   "cell_type": "code",
   "execution_count": null,
   "id": "4907471f-0851-4f12-9ce9-7876a435d597",
   "metadata": {},
   "outputs": [],
   "source": []
  },
  {
   "cell_type": "code",
   "execution_count": null,
   "id": "018d5a3b-1421-43ee-ac68-05245df05f0a",
   "metadata": {},
   "outputs": [],
   "source": []
  },
  {
   "cell_type": "markdown",
   "id": "874e6e34-1c37-4d7c-8dde-bcd1a246565c",
   "metadata": {},
   "source": [
    "- *,+, -  아무거나 사용해도 좋다"
   ]
  },
  {
   "cell_type": "markdown",
   "id": "8d813ea5-d0b7-4dc1-af9f-a54c8a3630f8",
   "metadata": {},
   "source": [
    "마크다운 리스트\n",
    "\n",
    "```\n",
    "- 아이템1\n",
    "- 아이템2\n",
    "    - 아이템22\n",
    "\n",
    "+ 아이템1\n",
    "+ 아이템2\n",
    "    - 아이템3\n",
    "    - 아이템4\n",
    "\n",
    "- 아이템1\n",
    "    - 아이템 중에 **중요**한 것으..\n",
    "```"
   ]
  },
  {
   "cell_type": "markdown",
   "id": "a461ceb6-f093-4a2a-9a1e-bb23c954dfca",
   "metadata": {},
   "source": [
    "- 아이템1\n",
    "- 아이템2\n",
    "    - 아이템22"
   ]
  },
  {
   "cell_type": "code",
   "execution_count": null,
   "id": "d6db0208-1bed-4afc-b341-553d6a595aa8",
   "metadata": {},
   "outputs": [],
   "source": []
  },
  {
   "cell_type": "code",
   "execution_count": null,
   "id": "ae67b5a1-c253-49c3-a492-d34f4ea20e31",
   "metadata": {},
   "outputs": [],
   "source": []
  },
  {
   "cell_type": "markdown",
   "id": "3285930b-89cd-45f4-8300-ec278a7c3725",
   "metadata": {},
   "source": [
    "마크다운 순서있는 리스트\n",
    "\n",
    "```\n",
    "1. 하나\n",
    "2. 둘\n",
    "3. 셋\n",
    "\n",
    "문장을 써주시거나.\n",
    "\n",
    "1. 하나\n",
    "1. 둘\n",
    "1. 셋\n",
    "    1. 들여쓰기\n",
    "    1. 들여쓰기\n",
    "    1. 들여쓰기\n",
    "        - 순서없는\n",
    "        - 순서없는\n",
    "        \n",
    "```\n"
   ]
  },
  {
   "cell_type": "markdown",
   "id": "d608dbf4-5803-4b77-874d-fd42491c27a1",
   "metadata": {},
   "source": [
    "1. 하나\n",
    "1. 둘\n",
    "1. 셋\n",
    "    1. 들여쓰기\n",
    "    1. 들여쓰기\n",
    "    1. 들여쓰기\n",
    "        - 순서없는\n",
    "        - 순서없는"
   ]
  },
  {
   "cell_type": "code",
   "execution_count": null,
   "id": "cac21a42-d24b-494d-b763-253f0cb72481",
   "metadata": {},
   "outputs": [],
   "source": []
  },
  {
   "cell_type": "code",
   "execution_count": null,
   "id": "e6edfc6e-56bc-4412-b8fe-581bc565f8b1",
   "metadata": {},
   "outputs": [],
   "source": []
  },
  {
   "cell_type": "code",
   "execution_count": null,
   "id": "f38638f7-ff56-4e93-a2dd-097f46a7a1cf",
   "metadata": {},
   "outputs": [],
   "source": []
  },
  {
   "cell_type": "markdown",
   "id": "53d30e69-3544-4271-a395-244b084a4060",
   "metadata": {},
   "source": [
    "## Foot notes (각주)\n",
    "\n",
    "```\n",
    "Here is a simple footnote[^1].\n",
    "\n",
    "A footnote can also have multiple lines[^2].  \n",
    "\n",
    "You can also use words, to fit your writing style more closely[^note].\n",
    "\n",
    "[^1]: My reference.\n",
    "[^2]: Every new line should be prefixed with 2 spaces.  \n",
    "  This allows you to have a footnote with multiple lines.\n",
    "[^note]:\n",
    "    Named footnotes will still render with numbers instead of the text but allow easier identification and linking.  \n",
    "    This footnote als\n",
    "```"
   ]
  },
  {
   "cell_type": "markdown",
   "id": "08cd09ff-c7b6-448e-aab6-f63bc0e904ca",
   "metadata": {},
   "source": [
    "Here is a simple footnote[^1].\n",
    "\n",
    "A footnote can also have multiple lines[^2].  \n",
    "\n",
    "---\n",
    "\n",
    "You can also use words, to fit your writing style more closely[^note].\n",
    "\n",
    "[^1]: My reference.\n",
    "[^2]: Every new line should be prefixed with 2 spaces.  \n",
    "  This allows you to have a footnote with multiple lines.\n",
    "[^note]:\n",
    "    Named footnotes will still render with numbers instead of the text but allow easier identification and linking.  \n",
    "    This footnote als"
   ]
  },
  {
   "cell_type": "markdown",
   "id": "e3083d77-1e24-461f-82a7-a1c22a4802e8",
   "metadata": {},
   "source": [
    "- 주피터는 안되고 깃허브는 된다"
   ]
  },
  {
   "cell_type": "code",
   "execution_count": null,
   "id": "52a26fff-13b1-4818-91e6-e72720412ce9",
   "metadata": {},
   "outputs": [],
   "source": []
  },
  {
   "cell_type": "code",
   "execution_count": null,
   "id": "765892b4-0549-4ab6-a296-e54625917aca",
   "metadata": {},
   "outputs": [],
   "source": []
  },
  {
   "cell_type": "markdown",
   "id": "8688c1fc-7197-4d61-a2cf-a512b38610c3",
   "metadata": {},
   "source": [
    "## Task lists\n",
    "\n",
    "```\n",
    "- [x] @mentions, #refs, [links](), **formatting**, and <del>tags</del> supported\n",
    "- [x] list syntax required (any unordered or ordered list supported)\n",
    "- [x] this is a complete item\n",
    "- [ ] this is an incomplete item\n",
    "\n",
    "```"
   ]
  },
  {
   "cell_type": "markdown",
   "id": "03766371-6205-4df6-ba59-34868ec96d3c",
   "metadata": {},
   "source": [
    "- [x] @mentions, #refs, [links](), **formatting**, and <del>tags</del> supported\n",
    "- [x] list syntax required (any unordered or ordered list supported)\n",
    "- [x] this is a complete item\n",
    "- [ ] this is an incomplete item"
   ]
  },
  {
   "cell_type": "code",
   "execution_count": null,
   "id": "18ad12af-dce4-4567-8381-ba0960ec8737",
   "metadata": {},
   "outputs": [],
   "source": []
  },
  {
   "cell_type": "code",
   "execution_count": null,
   "id": "d8c42fee-4ff2-404d-95f1-5acc54b74189",
   "metadata": {},
   "outputs": [],
   "source": []
  },
  {
   "cell_type": "markdown",
   "id": "715a7226-a6ae-42ba-90e0-478f2daa8a22",
   "metadata": {
    "slideshow": {
     "slide_type": "slide"
    }
   },
   "source": [
    "## LaTex\n",
    "\n",
    "* Mathjax를 포함하고 있다. LaTeX를 그대로 사용\n",
    "* [위키백과:TeX 문법](https://ko.wikipedia.org/wiki/%EC%9C%84%ED%82%A4%EB%B0%B1%EA%B3%BC:TeX_%EB%AC%B8%EB%B2%95)\n",
    "* 온라인 라텍스 편집기:  https://www.codecogs.com/latex/eqneditor.php\n",
    "\n",
    "\n",
    "```\n",
    "$$c = \\sqrt{a^2 + b^2}$$\n",
    "```\n",
    "\n",
    "$$c = \\sqrt{a^2 + b^2}$$\n",
    "\n",
    "```\n",
    "$$N(\\mu ,\\sigma )$$\n",
    "```\n",
    "\n",
    "$$N(\\mu ,\\sigma )$$"
   ]
  },
  {
   "cell_type": "markdown",
   "id": "a554f879-6ac6-4665-8216-fb403f9d909f",
   "metadata": {},
   "source": [
    "# 두 가지 방법\n",
    "\n",
    "줄안에 포함 : $ $ \n",
    "\n",
    "여러줄은: $$ $$ "
   ]
  },
  {
   "cell_type": "markdown",
   "id": "46853db9-4ea0-4f13-bc70-6ce96090090d",
   "metadata": {},
   "source": [
    "줄안에 $c = \\sqrt{a^2 + b^2}$ 라텍스 표현을 하려면.."
   ]
  },
  {
   "cell_type": "code",
   "execution_count": null,
   "id": "bf89b5c9-9893-470e-bad4-6284c67c028a",
   "metadata": {},
   "outputs": [],
   "source": []
  },
  {
   "cell_type": "markdown",
   "id": "fea5e232-027a-4c27-b9eb-5a2528147165",
   "metadata": {},
   "source": [
    "- 여러줄\n",
    "$$\n",
    "c = \\sqrt{a^2 + b^2}\\\\\n",
    "N(\\mu ,\\sigma \n",
    "$$"
   ]
  },
  {
   "cell_type": "code",
   "execution_count": null,
   "id": "26fb8453-46a9-4d75-9e75-d577ea62b587",
   "metadata": {},
   "outputs": [],
   "source": []
  },
  {
   "cell_type": "markdown",
   "id": "1ad2375e-2d44-467d-9acf-d91ce1e2625b",
   "metadata": {},
   "source": [
    "$$\n",
    "c = \\sqrt{a^2 + b^2}\\\\\n",
    "= 2*a + 2*b\\\\\n",
    "= (2+a)^\n",
    "$$"
   ]
  },
  {
   "cell_type": "code",
   "execution_count": null,
   "id": "5a71239d-8e37-4018-a0c8-5da95c585384",
   "metadata": {},
   "outputs": [],
   "source": []
  },
  {
   "cell_type": "markdown",
   "id": "4132bb45-9deb-458a-96bc-9ead6c07fdea",
   "metadata": {},
   "source": [
    "$$\\begin{aligend}\n",
    "c &= \\sqrt{a^2 + b^2}\\\\\n",
    "&= 2*a + 2*b\\\\\n",
    "&= (2+a)^2\n",
    "\\end{aligned}\n",
    "$$"
   ]
  },
  {
   "cell_type": "code",
   "execution_count": null,
   "id": "c5553256-2aa5-47a2-b925-da7646770699",
   "metadata": {},
   "outputs": [],
   "source": []
  },
  {
   "cell_type": "markdown",
   "id": "7059a19e-c497-4a5d-a461-9a1d8c4d7783",
   "metadata": {},
   "source": [
    "- 제곱표현\n",
    "$$\n",
    "y = \\sqrt{a^2 + b^2}\\\\\n",
    "\\sqrt{a^{10-x} + b^{a*2}}\\\\\n",
    "$$"
   ]
  },
  {
   "cell_type": "code",
   "execution_count": null,
   "id": "27e3d665-6f3c-4787-93bc-adb7223de184",
   "metadata": {},
   "outputs": [],
   "source": []
  },
  {
   "cell_type": "markdown",
   "id": "c3f0d0ca-e3cb-43b0-9a03-c916e61aa986",
   "metadata": {},
   "source": [
    "- 시그마\n",
    "$$\n",
    "\\sum_{k=1}^N k^2\n",
    "$$"
   ]
  },
  {
   "cell_type": "code",
   "execution_count": null,
   "id": "f37d2e06-fbff-4e0a-bba8-fdb969334070",
   "metadata": {},
   "outputs": [],
   "source": []
  },
  {
   "cell_type": "markdown",
   "id": "fa0c31e4-8e3a-49de-8e42-e160b4eea316",
   "metadata": {},
   "source": [
    "- 적분\n",
    "$$\n",
    "\\int_{-N}^{N} e^x\\, dx\n",
    "$$"
   ]
  },
  {
   "cell_type": "code",
   "execution_count": null,
   "id": "4eeaf644-73d8-4af5-bc54-b3637a9d81ed",
   "metadata": {},
   "outputs": [],
   "source": []
  },
  {
   "cell_type": "code",
   "execution_count": null,
   "id": "bc2671c1-c878-405c-a256-fb6065d2bb24",
   "metadata": {},
   "outputs": [],
   "source": []
  },
  {
   "cell_type": "markdown",
   "id": "b828ca53-b77b-43a8-9caa-f9d2b122773b",
   "metadata": {},
   "source": [
    "- 적분\n",
    "$$\n",
    "\\text{문자넣을수있어요.   }  \\int_{-N}^{N} e^x\\, dx\n",
    "$$"
   ]
  },
  {
   "cell_type": "code",
   "execution_count": null,
   "id": "040fb567-5f5f-4de4-931d-554e5508005f",
   "metadata": {},
   "outputs": [],
   "source": []
  },
  {
   "cell_type": "code",
   "execution_count": null,
   "id": "9f3f60ad-1a64-40d7-a19f-0c2976818a69",
   "metadata": {},
   "outputs": [],
   "source": []
  },
  {
   "cell_type": "markdown",
   "id": "81f48d54-2f5c-4acc-aa11-973579967a27",
   "metadata": {},
   "source": [
    "- 적분\n",
    "- 빈칸이용\n",
    "$$\n",
    "\\text{문자넣을수있어요.   }\n",
    "\\quad\n",
    "\\int_{-N}^{N} e^x\\, dx\n",
    "$$"
   ]
  },
  {
   "cell_type": "code",
   "execution_count": null,
   "id": "610f24ed-ac74-4022-a0fc-f4edfc76e484",
   "metadata": {},
   "outputs": [],
   "source": []
  },
  {
   "cell_type": "code",
   "execution_count": null,
   "id": "d9ee91dd-fc05-40e4-a8ee-33fe6fc440a2",
   "metadata": {},
   "outputs": [],
   "source": []
  }
 ],
 "metadata": {
  "kernelspec": {
   "display_name": "Python 3 (ipykernel)",
   "language": "python",
   "name": "python3"
  },
  "language_info": {
   "codemirror_mode": {
    "name": "ipython",
    "version": 3
   },
   "file_extension": ".py",
   "mimetype": "text/x-python",
   "name": "python",
   "nbconvert_exporter": "python",
   "pygments_lexer": "ipython3",
   "version": "3.9.13"
  }
 },
 "nbformat": 4,
 "nbformat_minor": 5
}
